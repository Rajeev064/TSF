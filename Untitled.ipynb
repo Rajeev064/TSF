{
  "nbformat": 4,
  "nbformat_minor": 0,
  "metadata": {
    "kernelspec": {
      "display_name": "Python 3.8.2 64-bit",
      "language": "python",
      "name": "python38264bitf6de309442894e45954b174ed80e2ca2"
    },
    "language_info": {
      "codemirror_mode": {
        "name": "ipython",
        "version": 3
      },
      "file_extension": ".py",
      "mimetype": "text/x-python",
      "name": "python",
      "nbconvert_exporter": "python",
      "pygments_lexer": "ipython3",
      "version": "3.8.2"
    },
    "colab": {
      "name": "Untitled.ipynb",
      "provenance": [],
      "collapsed_sections": [],
      "include_colab_link": true
    },
    "accelerator": "GPU"
  },
  "cells": [
    {
      "cell_type": "markdown",
      "metadata": {
        "id": "view-in-github",
        "colab_type": "text"
      },
      "source": [
        "<a href=\"https://colab.research.google.com/github/Rajeev064/TSF/blob/main/Untitled.ipynb\" target=\"_parent\"><img src=\"https://colab.research.google.com/assets/colab-badge.svg\" alt=\"Open In Colab\"/></a>"
      ]
    },
    {
      "cell_type": "code",
      "metadata": {
        "colab": {
          "resources": {
            "http://localhost:8080/nbextensions/google.colab/files.js": {
              "data": "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",
              "ok": true,
              "headers": [
                [
                  "content-type",
                  "application/javascript"
                ]
              ],
              "status": 200,
              "status_text": ""
            }
          },
          "base_uri": "https://localhost:8080/",
          "height": 106
        },
        "id": "xiQ4E121YqwD",
        "outputId": "d6fcfddb-37b2-4691-cde9-dbd01ea6db21"
      },
      "source": [
        "from google.colab import files\r\n",
        "\r\n",
        "uploaded = files.upload()"
      ],
      "execution_count": null,
      "outputs": [
        {
          "output_type": "display_data",
          "data": {
            "text/html": [
              "\n",
              "     <input type=\"file\" id=\"files-f74d0574-73b4-4138-89bc-8c31d463a674\" name=\"files[]\" multiple disabled\n",
              "        style=\"border:none\" />\n",
              "     <output id=\"result-f74d0574-73b4-4138-89bc-8c31d463a674\">\n",
              "      Upload widget is only available when the cell has been executed in the\n",
              "      current browser session. Please rerun this cell to enable.\n",
              "      </output>\n",
              "      <script src=\"/nbextensions/google.colab/files.js\"></script> "
            ],
            "text/plain": [
              "<IPython.core.display.HTML object>"
            ]
          },
          "metadata": {
            "tags": []
          }
        },
        {
          "output_type": "stream",
          "text": [
            "Saving india-news-headlines.csv to india-news-headlines.csv\n",
            "Saving RELIANCE.NS.csv to RELIANCE.NS.csv\n"
          ],
          "name": "stdout"
        }
      ]
    },
    {
      "cell_type": "code",
      "metadata": {
        "id": "p1x_-Oo-YmWF"
      },
      "source": [
        "#importing libraries\n",
        "import math\n",
        "import pandas as pd\n",
        "import numpy as np\n",
        "\n",
        "import matplotlib.pyplot as plt\n",
        "import seaborn as sns\n",
        "\n",
        "import tensorflow as tf\n",
        "from tensorflow import keras\n",
        "from keras.models import Sequential\n",
        "from keras.layers import Dense, LSTM, Dropout, Dense, Activation\n",
        "\n",
        "import nltk\n",
        "from nltk.classify import NaiveBayesClassifier\n",
        "from nltk.corpus import subjectivity\n",
        "from nltk.sentiment import SentimentAnalyzer\n",
        "from nltk.sentiment.util import *\n",
        "\n",
        "from sklearn import preprocessing, metrics\n",
        "from sklearn.preprocessing import MinMaxScaler\n",
        "\n",
        "from keras.models import load_model\n",
        "from keras import regularizers"
      ],
      "execution_count": null,
      "outputs": []
    },
    {
      "cell_type": "code",
      "metadata": {
        "id": "XhHuAQN9YmWK"
      },
      "source": [
        "\r\n",
        "stock = pd.read_csv('/content/RELIANCE.NS.csv')"
      ],
      "execution_count": null,
      "outputs": []
    },
    {
      "cell_type": "code",
      "metadata": {
        "colab": {
          "base_uri": "https://localhost:8080/",
          "height": 343
        },
        "id": "ZiYlYlpBYmWK",
        "outputId": "e4292cff-9d8b-428b-e60e-b75d9b3778f5"
      },
      "source": [
        "stock.head(10)"
      ],
      "execution_count": null,
      "outputs": [
        {
          "output_type": "execute_result",
          "data": {
            "text/html": [
              "<div>\n",
              "<style scoped>\n",
              "    .dataframe tbody tr th:only-of-type {\n",
              "        vertical-align: middle;\n",
              "    }\n",
              "\n",
              "    .dataframe tbody tr th {\n",
              "        vertical-align: top;\n",
              "    }\n",
              "\n",
              "    .dataframe thead th {\n",
              "        text-align: right;\n",
              "    }\n",
              "</style>\n",
              "<table border=\"1\" class=\"dataframe\">\n",
              "  <thead>\n",
              "    <tr style=\"text-align: right;\">\n",
              "      <th></th>\n",
              "      <th>Date</th>\n",
              "      <th>Open</th>\n",
              "      <th>High</th>\n",
              "      <th>Low</th>\n",
              "      <th>Close</th>\n",
              "      <th>Adj Close</th>\n",
              "      <th>Volume</th>\n",
              "    </tr>\n",
              "  </thead>\n",
              "  <tbody>\n",
              "    <tr>\n",
              "      <th>0</th>\n",
              "      <td>2001-01-01</td>\n",
              "      <td>53.105499</td>\n",
              "      <td>53.675701</td>\n",
              "      <td>52.949402</td>\n",
              "      <td>53.378899</td>\n",
              "      <td>24.208828</td>\n",
              "      <td>19259768.0</td>\n",
              "    </tr>\n",
              "    <tr>\n",
              "      <th>1</th>\n",
              "      <td>2001-01-02</td>\n",
              "      <td>53.160198</td>\n",
              "      <td>56.073200</td>\n",
              "      <td>53.144600</td>\n",
              "      <td>55.339100</td>\n",
              "      <td>25.097834</td>\n",
              "      <td>42408935.0</td>\n",
              "    </tr>\n",
              "    <tr>\n",
              "      <th>2</th>\n",
              "      <td>2001-01-03</td>\n",
              "      <td>55.448399</td>\n",
              "      <td>56.494900</td>\n",
              "      <td>55.136101</td>\n",
              "      <td>56.237202</td>\n",
              "      <td>25.505148</td>\n",
              "      <td>56622894.0</td>\n",
              "    </tr>\n",
              "    <tr>\n",
              "      <th>3</th>\n",
              "      <td>2001-01-04</td>\n",
              "      <td>56.088799</td>\n",
              "      <td>57.307098</td>\n",
              "      <td>55.635899</td>\n",
              "      <td>55.885799</td>\n",
              "      <td>25.345785</td>\n",
              "      <td>38303310.0</td>\n",
              "    </tr>\n",
              "    <tr>\n",
              "      <th>4</th>\n",
              "      <td>2001-01-05</td>\n",
              "      <td>55.682701</td>\n",
              "      <td>57.291500</td>\n",
              "      <td>55.682701</td>\n",
              "      <td>56.901001</td>\n",
              "      <td>25.806200</td>\n",
              "      <td>47762434.0</td>\n",
              "    </tr>\n",
              "    <tr>\n",
              "      <th>5</th>\n",
              "      <td>2001-01-08</td>\n",
              "      <td>56.619900</td>\n",
              "      <td>57.393002</td>\n",
              "      <td>55.799900</td>\n",
              "      <td>56.260601</td>\n",
              "      <td>25.515766</td>\n",
              "      <td>43809518.0</td>\n",
              "    </tr>\n",
              "    <tr>\n",
              "      <th>6</th>\n",
              "      <td>2001-01-09</td>\n",
              "      <td>56.135700</td>\n",
              "      <td>56.510601</td>\n",
              "      <td>55.776501</td>\n",
              "      <td>55.909199</td>\n",
              "      <td>25.356398</td>\n",
              "      <td>28898145.0</td>\n",
              "    </tr>\n",
              "    <tr>\n",
              "      <th>7</th>\n",
              "      <td>2001-01-10</td>\n",
              "      <td>56.002899</td>\n",
              "      <td>56.455898</td>\n",
              "      <td>54.534698</td>\n",
              "      <td>54.932999</td>\n",
              "      <td>24.913660</td>\n",
              "      <td>30288075.0</td>\n",
              "    </tr>\n",
              "    <tr>\n",
              "      <th>8</th>\n",
              "      <td>2001-01-11</td>\n",
              "      <td>55.057999</td>\n",
              "      <td>55.807701</td>\n",
              "      <td>54.823700</td>\n",
              "      <td>55.573399</td>\n",
              "      <td>25.204098</td>\n",
              "      <td>26062495.0</td>\n",
              "    </tr>\n",
              "    <tr>\n",
              "      <th>9</th>\n",
              "      <td>2001-01-12</td>\n",
              "      <td>55.752998</td>\n",
              "      <td>55.979500</td>\n",
              "      <td>55.292301</td>\n",
              "      <td>55.378201</td>\n",
              "      <td>25.115570</td>\n",
              "      <td>15382099.0</td>\n",
              "    </tr>\n",
              "  </tbody>\n",
              "</table>\n",
              "</div>"
            ],
            "text/plain": [
              "         Date       Open       High  ...      Close  Adj Close      Volume\n",
              "0  2001-01-01  53.105499  53.675701  ...  53.378899  24.208828  19259768.0\n",
              "1  2001-01-02  53.160198  56.073200  ...  55.339100  25.097834  42408935.0\n",
              "2  2001-01-03  55.448399  56.494900  ...  56.237202  25.505148  56622894.0\n",
              "3  2001-01-04  56.088799  57.307098  ...  55.885799  25.345785  38303310.0\n",
              "4  2001-01-05  55.682701  57.291500  ...  56.901001  25.806200  47762434.0\n",
              "5  2001-01-08  56.619900  57.393002  ...  56.260601  25.515766  43809518.0\n",
              "6  2001-01-09  56.135700  56.510601  ...  55.909199  25.356398  28898145.0\n",
              "7  2001-01-10  56.002899  56.455898  ...  54.932999  24.913660  30288075.0\n",
              "8  2001-01-11  55.057999  55.807701  ...  55.573399  25.204098  26062495.0\n",
              "9  2001-01-12  55.752998  55.979500  ...  55.378201  25.115570  15382099.0\n",
              "\n",
              "[10 rows x 7 columns]"
            ]
          },
          "metadata": {
            "tags": []
          },
          "execution_count": 4
        }
      ]
    },
    {
      "cell_type": "code",
      "metadata": {
        "id": "oZNieA95YmWL"
      },
      "source": [
        "news = pd.read_csv('/content/india-news-headlines.csv')"
      ],
      "execution_count": null,
      "outputs": []
    },
    {
      "cell_type": "code",
      "metadata": {
        "colab": {
          "base_uri": "https://localhost:8080/",
          "height": 343
        },
        "id": "icLySiNTYmWL",
        "outputId": "a8152aea-9cfa-438b-8c8b-ab6a199500c3"
      },
      "source": [
        "news.head(10)"
      ],
      "execution_count": null,
      "outputs": [
        {
          "output_type": "execute_result",
          "data": {
            "text/html": [
              "<div>\n",
              "<style scoped>\n",
              "    .dataframe tbody tr th:only-of-type {\n",
              "        vertical-align: middle;\n",
              "    }\n",
              "\n",
              "    .dataframe tbody tr th {\n",
              "        vertical-align: top;\n",
              "    }\n",
              "\n",
              "    .dataframe thead th {\n",
              "        text-align: right;\n",
              "    }\n",
              "</style>\n",
              "<table border=\"1\" class=\"dataframe\">\n",
              "  <thead>\n",
              "    <tr style=\"text-align: right;\">\n",
              "      <th></th>\n",
              "      <th>publish_date</th>\n",
              "      <th>headline_category</th>\n",
              "      <th>headline_text</th>\n",
              "    </tr>\n",
              "  </thead>\n",
              "  <tbody>\n",
              "    <tr>\n",
              "      <th>0</th>\n",
              "      <td>20010101</td>\n",
              "      <td>sports.wwe</td>\n",
              "      <td>win over cena satisfying but defeating underta...</td>\n",
              "    </tr>\n",
              "    <tr>\n",
              "      <th>1</th>\n",
              "      <td>20010102</td>\n",
              "      <td>unknown</td>\n",
              "      <td>Status quo will not be disturbed at Ayodhya; s...</td>\n",
              "    </tr>\n",
              "    <tr>\n",
              "      <th>2</th>\n",
              "      <td>20010102</td>\n",
              "      <td>unknown</td>\n",
              "      <td>Fissures in Hurriyat over Pak visit</td>\n",
              "    </tr>\n",
              "    <tr>\n",
              "      <th>3</th>\n",
              "      <td>20010102</td>\n",
              "      <td>unknown</td>\n",
              "      <td>America's unwanted heading for India?</td>\n",
              "    </tr>\n",
              "    <tr>\n",
              "      <th>4</th>\n",
              "      <td>20010102</td>\n",
              "      <td>unknown</td>\n",
              "      <td>For bigwigs; it is destination Goa</td>\n",
              "    </tr>\n",
              "    <tr>\n",
              "      <th>5</th>\n",
              "      <td>20010102</td>\n",
              "      <td>unknown</td>\n",
              "      <td>Extra buses to clear tourist traffic</td>\n",
              "    </tr>\n",
              "    <tr>\n",
              "      <th>6</th>\n",
              "      <td>20010102</td>\n",
              "      <td>unknown</td>\n",
              "      <td>Dilute the power of transfers; says Riberio</td>\n",
              "    </tr>\n",
              "    <tr>\n",
              "      <th>7</th>\n",
              "      <td>20010102</td>\n",
              "      <td>unknown</td>\n",
              "      <td>Focus shifts to teaching of Hindi</td>\n",
              "    </tr>\n",
              "    <tr>\n",
              "      <th>8</th>\n",
              "      <td>20010102</td>\n",
              "      <td>unknown</td>\n",
              "      <td>IT will become compulsory in schools</td>\n",
              "    </tr>\n",
              "    <tr>\n",
              "      <th>9</th>\n",
              "      <td>20010102</td>\n",
              "      <td>unknown</td>\n",
              "      <td>Move to stop freedom fighters' pension flayed</td>\n",
              "    </tr>\n",
              "  </tbody>\n",
              "</table>\n",
              "</div>"
            ],
            "text/plain": [
              "   publish_date  ...                                      headline_text\n",
              "0      20010101  ...  win over cena satisfying but defeating underta...\n",
              "1      20010102  ...  Status quo will not be disturbed at Ayodhya; s...\n",
              "2      20010102  ...                Fissures in Hurriyat over Pak visit\n",
              "3      20010102  ...              America's unwanted heading for India?\n",
              "4      20010102  ...                 For bigwigs; it is destination Goa\n",
              "5      20010102  ...               Extra buses to clear tourist traffic\n",
              "6      20010102  ...        Dilute the power of transfers; says Riberio\n",
              "7      20010102  ...                  Focus shifts to teaching of Hindi\n",
              "8      20010102  ...               IT will become compulsory in schools\n",
              "9      20010102  ...      Move to stop freedom fighters' pension flayed\n",
              "\n",
              "[10 rows x 3 columns]"
            ]
          },
          "metadata": {
            "tags": []
          },
          "execution_count": 6
        }
      ]
    },
    {
      "cell_type": "code",
      "metadata": {
        "colab": {
          "base_uri": "https://localhost:8080/"
        },
        "id": "ak2LAkk0YmWM",
        "outputId": "4c5b3437-a528-4b89-d65c-4d55cc05eb03"
      },
      "source": [
        "news.isna().sum()"
      ],
      "execution_count": null,
      "outputs": [
        {
          "output_type": "execute_result",
          "data": {
            "text/plain": [
              "publish_date         0\n",
              "headline_category    0\n",
              "headline_text        0\n",
              "dtype: int64"
            ]
          },
          "metadata": {
            "tags": []
          },
          "execution_count": 7
        }
      ]
    },
    {
      "cell_type": "code",
      "metadata": {
        "scrolled": true,
        "colab": {
          "base_uri": "https://localhost:8080/"
        },
        "id": "cwD_MqywYmWM",
        "outputId": "9710271f-2dd6-420a-dbf7-c25d20428d88"
      },
      "source": [
        "stock.isna().sum()"
      ],
      "execution_count": null,
      "outputs": [
        {
          "output_type": "execute_result",
          "data": {
            "text/plain": [
              "Date          0\n",
              "Open         58\n",
              "High         58\n",
              "Low          58\n",
              "Close        58\n",
              "Adj Close    58\n",
              "Volume       58\n",
              "dtype: int64"
            ]
          },
          "metadata": {
            "tags": []
          },
          "execution_count": 8
        }
      ]
    },
    {
      "cell_type": "code",
      "metadata": {
        "id": "yArA_vl-YmWM"
      },
      "source": [
        "stock.dropna(inplace=True)"
      ],
      "execution_count": null,
      "outputs": []
    },
    {
      "cell_type": "code",
      "metadata": {
        "scrolled": true,
        "colab": {
          "base_uri": "https://localhost:8080/",
          "height": 402
        },
        "id": "VfjnqwUZYmWM",
        "outputId": "79cb8a0e-e397-4174-b961-ed2d444c18d6"
      },
      "source": [
        "stock"
      ],
      "execution_count": null,
      "outputs": [
        {
          "output_type": "execute_result",
          "data": {
            "text/html": [
              "<div>\n",
              "<style scoped>\n",
              "    .dataframe tbody tr th:only-of-type {\n",
              "        vertical-align: middle;\n",
              "    }\n",
              "\n",
              "    .dataframe tbody tr th {\n",
              "        vertical-align: top;\n",
              "    }\n",
              "\n",
              "    .dataframe thead th {\n",
              "        text-align: right;\n",
              "    }\n",
              "</style>\n",
              "<table border=\"1\" class=\"dataframe\">\n",
              "  <thead>\n",
              "    <tr style=\"text-align: right;\">\n",
              "      <th></th>\n",
              "      <th>Date</th>\n",
              "      <th>Open</th>\n",
              "      <th>High</th>\n",
              "      <th>Low</th>\n",
              "      <th>Close</th>\n",
              "      <th>Adj Close</th>\n",
              "      <th>Volume</th>\n",
              "    </tr>\n",
              "  </thead>\n",
              "  <tbody>\n",
              "    <tr>\n",
              "      <th>0</th>\n",
              "      <td>2001-01-01</td>\n",
              "      <td>53.105499</td>\n",
              "      <td>53.675701</td>\n",
              "      <td>52.949402</td>\n",
              "      <td>53.378899</td>\n",
              "      <td>24.208828</td>\n",
              "      <td>19259768.0</td>\n",
              "    </tr>\n",
              "    <tr>\n",
              "      <th>1</th>\n",
              "      <td>2001-01-02</td>\n",
              "      <td>53.160198</td>\n",
              "      <td>56.073200</td>\n",
              "      <td>53.144600</td>\n",
              "      <td>55.339100</td>\n",
              "      <td>25.097834</td>\n",
              "      <td>42408935.0</td>\n",
              "    </tr>\n",
              "    <tr>\n",
              "      <th>2</th>\n",
              "      <td>2001-01-03</td>\n",
              "      <td>55.448399</td>\n",
              "      <td>56.494900</td>\n",
              "      <td>55.136101</td>\n",
              "      <td>56.237202</td>\n",
              "      <td>25.505148</td>\n",
              "      <td>56622894.0</td>\n",
              "    </tr>\n",
              "    <tr>\n",
              "      <th>3</th>\n",
              "      <td>2001-01-04</td>\n",
              "      <td>56.088799</td>\n",
              "      <td>57.307098</td>\n",
              "      <td>55.635899</td>\n",
              "      <td>55.885799</td>\n",
              "      <td>25.345785</td>\n",
              "      <td>38303310.0</td>\n",
              "    </tr>\n",
              "    <tr>\n",
              "      <th>4</th>\n",
              "      <td>2001-01-05</td>\n",
              "      <td>55.682701</td>\n",
              "      <td>57.291500</td>\n",
              "      <td>55.682701</td>\n",
              "      <td>56.901001</td>\n",
              "      <td>25.806200</td>\n",
              "      <td>47762434.0</td>\n",
              "    </tr>\n",
              "    <tr>\n",
              "      <th>...</th>\n",
              "      <td>...</td>\n",
              "      <td>...</td>\n",
              "      <td>...</td>\n",
              "      <td>...</td>\n",
              "      <td>...</td>\n",
              "      <td>...</td>\n",
              "      <td>...</td>\n",
              "    </tr>\n",
              "    <tr>\n",
              "      <th>4864</th>\n",
              "      <td>2020-06-23</td>\n",
              "      <td>1750.000000</td>\n",
              "      <td>1763.750000</td>\n",
              "      <td>1716.099976</td>\n",
              "      <td>1720.900024</td>\n",
              "      <td>1714.462524</td>\n",
              "      <td>17519493.0</td>\n",
              "    </tr>\n",
              "    <tr>\n",
              "      <th>4865</th>\n",
              "      <td>2020-06-24</td>\n",
              "      <td>1735.900024</td>\n",
              "      <td>1772.699951</td>\n",
              "      <td>1711.699951</td>\n",
              "      <td>1727.849976</td>\n",
              "      <td>1721.386475</td>\n",
              "      <td>23807033.0</td>\n",
              "    </tr>\n",
              "    <tr>\n",
              "      <th>4866</th>\n",
              "      <td>2020-06-25</td>\n",
              "      <td>1727.000000</td>\n",
              "      <td>1749.000000</td>\n",
              "      <td>1713.050049</td>\n",
              "      <td>1717.900024</td>\n",
              "      <td>1711.473755</td>\n",
              "      <td>18312025.0</td>\n",
              "    </tr>\n",
              "    <tr>\n",
              "      <th>4867</th>\n",
              "      <td>2020-06-26</td>\n",
              "      <td>1728.800049</td>\n",
              "      <td>1752.000000</td>\n",
              "      <td>1717.000000</td>\n",
              "      <td>1741.650024</td>\n",
              "      <td>1735.134888</td>\n",
              "      <td>14270458.0</td>\n",
              "    </tr>\n",
              "    <tr>\n",
              "      <th>4868</th>\n",
              "      <td>2020-06-29</td>\n",
              "      <td>1728.050049</td>\n",
              "      <td>1739.750000</td>\n",
              "      <td>1715.550049</td>\n",
              "      <td>1723.150024</td>\n",
              "      <td>1716.704102</td>\n",
              "      <td>11824524.0</td>\n",
              "    </tr>\n",
              "  </tbody>\n",
              "</table>\n",
              "<p>4811 rows × 7 columns</p>\n",
              "</div>"
            ],
            "text/plain": [
              "            Date         Open  ...    Adj Close      Volume\n",
              "0     2001-01-01    53.105499  ...    24.208828  19259768.0\n",
              "1     2001-01-02    53.160198  ...    25.097834  42408935.0\n",
              "2     2001-01-03    55.448399  ...    25.505148  56622894.0\n",
              "3     2001-01-04    56.088799  ...    25.345785  38303310.0\n",
              "4     2001-01-05    55.682701  ...    25.806200  47762434.0\n",
              "...          ...          ...  ...          ...         ...\n",
              "4864  2020-06-23  1750.000000  ...  1714.462524  17519493.0\n",
              "4865  2020-06-24  1735.900024  ...  1721.386475  23807033.0\n",
              "4866  2020-06-25  1727.000000  ...  1711.473755  18312025.0\n",
              "4867  2020-06-26  1728.800049  ...  1735.134888  14270458.0\n",
              "4868  2020-06-29  1728.050049  ...  1716.704102  11824524.0\n",
              "\n",
              "[4811 rows x 7 columns]"
            ]
          },
          "metadata": {
            "tags": []
          },
          "execution_count": 10
        }
      ]
    },
    {
      "cell_type": "markdown",
      "metadata": {
        "id": "BHPj4Zaj159-"
      },
      "source": [
        "Making Date column as index"
      ]
    },
    {
      "cell_type": "code",
      "metadata": {
        "id": "zzTaDRibYmWN"
      },
      "source": [
        "stock = stock.drop_duplicates()\n",
        "stock['Date'] = pd.to_datetime(stock['Date']).dt.normalize()\n",
        "stock.set_index('Date',inplace=True)\n",
        "stock = stock.sort_index(ascending=True, axis=0)"
      ],
      "execution_count": null,
      "outputs": []
    },
    {
      "cell_type": "code",
      "metadata": {
        "scrolled": true,
        "colab": {
          "base_uri": "https://localhost:8080/"
        },
        "id": "cuk7UYIQYmWN",
        "outputId": "b3036ace-2d7e-4f7c-9cef-edfea346c1fd"
      },
      "source": [
        "stock.isna().sum()"
      ],
      "execution_count": null,
      "outputs": [
        {
          "output_type": "execute_result",
          "data": {
            "text/plain": [
              "Open         0\n",
              "High         0\n",
              "Low          0\n",
              "Close        0\n",
              "Adj Close    0\n",
              "Volume       0\n",
              "dtype: int64"
            ]
          },
          "metadata": {
            "tags": []
          },
          "execution_count": 12
        }
      ]
    },
    {
      "cell_type": "code",
      "metadata": {
        "colab": {
          "base_uri": "https://localhost:8080/",
          "height": 431
        },
        "id": "xtw1lWLFYmWN",
        "outputId": "ab633f06-4df7-42d5-b4ea-e057bab1594d"
      },
      "source": [
        "news = news.drop_duplicates()\n",
        "\n",
        "news['publish_date'] = news['publish_date'].astype(str)\n",
        "news['publish_date'] = news['publish_date'].apply(lambda x: x[0:4]+'-'+x[4:6]+'-'+x[6:8])\n",
        "news['publish_date'] = pd.to_datetime(news['publish_date']).dt.normalize()\n",
        "\n",
        "news = news.filter(['publish_date', 'headline_text'])\n",
        "\n",
        "news = news.groupby(['publish_date'])['headline_text'].apply(lambda x: ','.join(x)).reset_index()\n",
        "\n",
        "news.set_index('publish_date', inplace= True)\n",
        "\n",
        "news = news.sort_index(ascending=True, axis=0)\n",
        "news"
      ],
      "execution_count": null,
      "outputs": [
        {
          "output_type": "execute_result",
          "data": {
            "text/html": [
              "<div>\n",
              "<style scoped>\n",
              "    .dataframe tbody tr th:only-of-type {\n",
              "        vertical-align: middle;\n",
              "    }\n",
              "\n",
              "    .dataframe tbody tr th {\n",
              "        vertical-align: top;\n",
              "    }\n",
              "\n",
              "    .dataframe thead th {\n",
              "        text-align: right;\n",
              "    }\n",
              "</style>\n",
              "<table border=\"1\" class=\"dataframe\">\n",
              "  <thead>\n",
              "    <tr style=\"text-align: right;\">\n",
              "      <th></th>\n",
              "      <th>headline_text</th>\n",
              "    </tr>\n",
              "    <tr>\n",
              "      <th>publish_date</th>\n",
              "      <th></th>\n",
              "    </tr>\n",
              "  </thead>\n",
              "  <tbody>\n",
              "    <tr>\n",
              "      <th>2001-01-01</th>\n",
              "      <td>win over cena satisfying but defeating underta...</td>\n",
              "    </tr>\n",
              "    <tr>\n",
              "      <th>2001-01-02</th>\n",
              "      <td>Status quo will not be disturbed at Ayodhya; s...</td>\n",
              "    </tr>\n",
              "    <tr>\n",
              "      <th>2001-01-03</th>\n",
              "      <td>Powerless north India gropes in the dark,Think...</td>\n",
              "    </tr>\n",
              "    <tr>\n",
              "      <th>2001-01-04</th>\n",
              "      <td>The string that pulled Stephen Hawking to Indi...</td>\n",
              "    </tr>\n",
              "    <tr>\n",
              "      <th>2001-01-05</th>\n",
              "      <td>Light combat craft takes India into club class...</td>\n",
              "    </tr>\n",
              "    <tr>\n",
              "      <th>...</th>\n",
              "      <td>...</td>\n",
              "    </tr>\n",
              "    <tr>\n",
              "      <th>2020-06-26</th>\n",
              "      <td>Containment zone residents slam high prices ch...</td>\n",
              "    </tr>\n",
              "    <tr>\n",
              "      <th>2020-06-27</th>\n",
              "      <td>like me i wont let you have a toxic relationsh...</td>\n",
              "    </tr>\n",
              "    <tr>\n",
              "      <th>2020-06-28</th>\n",
              "      <td>Atanu Ghosh plans to rewrite old scripts to ma...</td>\n",
              "    </tr>\n",
              "    <tr>\n",
              "      <th>2020-06-29</th>\n",
              "      <td>6 hot and stylish bikini looks of Katrina Kaif...</td>\n",
              "    </tr>\n",
              "    <tr>\n",
              "      <th>2020-06-30</th>\n",
              "      <td>Detective Byomkesh Bakshy!,Edge of Tomorrow,Fi...</td>\n",
              "    </tr>\n",
              "  </tbody>\n",
              "</table>\n",
              "<p>7080 rows × 1 columns</p>\n",
              "</div>"
            ],
            "text/plain": [
              "                                                  headline_text\n",
              "publish_date                                                   \n",
              "2001-01-01    win over cena satisfying but defeating underta...\n",
              "2001-01-02    Status quo will not be disturbed at Ayodhya; s...\n",
              "2001-01-03    Powerless north India gropes in the dark,Think...\n",
              "2001-01-04    The string that pulled Stephen Hawking to Indi...\n",
              "2001-01-05    Light combat craft takes India into club class...\n",
              "...                                                         ...\n",
              "2020-06-26    Containment zone residents slam high prices ch...\n",
              "2020-06-27    like me i wont let you have a toxic relationsh...\n",
              "2020-06-28    Atanu Ghosh plans to rewrite old scripts to ma...\n",
              "2020-06-29    6 hot and stylish bikini looks of Katrina Kaif...\n",
              "2020-06-30    Detective Byomkesh Bakshy!,Edge of Tomorrow,Fi...\n",
              "\n",
              "[7080 rows x 1 columns]"
            ]
          },
          "metadata": {
            "tags": []
          },
          "execution_count": 13
        }
      ]
    },
    {
      "cell_type": "code",
      "metadata": {
        "id": "0gh7mal7YmWO"
      },
      "source": [
        "data = pd.concat([stock,news],axis=1)"
      ],
      "execution_count": null,
      "outputs": []
    },
    {
      "cell_type": "code",
      "metadata": {
        "scrolled": true,
        "colab": {
          "base_uri": "https://localhost:8080/",
          "height": 402
        },
        "id": "EjLjTHzDYmWO",
        "outputId": "d7df1ca2-e5c5-4a7e-bdc1-e3531ddbd5d8"
      },
      "source": [
        "data"
      ],
      "execution_count": null,
      "outputs": [
        {
          "output_type": "execute_result",
          "data": {
            "text/html": [
              "<div>\n",
              "<style scoped>\n",
              "    .dataframe tbody tr th:only-of-type {\n",
              "        vertical-align: middle;\n",
              "    }\n",
              "\n",
              "    .dataframe tbody tr th {\n",
              "        vertical-align: top;\n",
              "    }\n",
              "\n",
              "    .dataframe thead th {\n",
              "        text-align: right;\n",
              "    }\n",
              "</style>\n",
              "<table border=\"1\" class=\"dataframe\">\n",
              "  <thead>\n",
              "    <tr style=\"text-align: right;\">\n",
              "      <th></th>\n",
              "      <th>Open</th>\n",
              "      <th>High</th>\n",
              "      <th>Low</th>\n",
              "      <th>Close</th>\n",
              "      <th>Adj Close</th>\n",
              "      <th>Volume</th>\n",
              "      <th>headline_text</th>\n",
              "    </tr>\n",
              "  </thead>\n",
              "  <tbody>\n",
              "    <tr>\n",
              "      <th>2001-01-01</th>\n",
              "      <td>53.105499</td>\n",
              "      <td>53.675701</td>\n",
              "      <td>52.949402</td>\n",
              "      <td>53.378899</td>\n",
              "      <td>24.208828</td>\n",
              "      <td>19259768.0</td>\n",
              "      <td>win over cena satisfying but defeating underta...</td>\n",
              "    </tr>\n",
              "    <tr>\n",
              "      <th>2001-01-02</th>\n",
              "      <td>53.160198</td>\n",
              "      <td>56.073200</td>\n",
              "      <td>53.144600</td>\n",
              "      <td>55.339100</td>\n",
              "      <td>25.097834</td>\n",
              "      <td>42408935.0</td>\n",
              "      <td>Status quo will not be disturbed at Ayodhya; s...</td>\n",
              "    </tr>\n",
              "    <tr>\n",
              "      <th>2001-01-03</th>\n",
              "      <td>55.448399</td>\n",
              "      <td>56.494900</td>\n",
              "      <td>55.136101</td>\n",
              "      <td>56.237202</td>\n",
              "      <td>25.505148</td>\n",
              "      <td>56622894.0</td>\n",
              "      <td>Powerless north India gropes in the dark,Think...</td>\n",
              "    </tr>\n",
              "    <tr>\n",
              "      <th>2001-01-04</th>\n",
              "      <td>56.088799</td>\n",
              "      <td>57.307098</td>\n",
              "      <td>55.635899</td>\n",
              "      <td>55.885799</td>\n",
              "      <td>25.345785</td>\n",
              "      <td>38303310.0</td>\n",
              "      <td>The string that pulled Stephen Hawking to Indi...</td>\n",
              "    </tr>\n",
              "    <tr>\n",
              "      <th>2001-01-05</th>\n",
              "      <td>55.682701</td>\n",
              "      <td>57.291500</td>\n",
              "      <td>55.682701</td>\n",
              "      <td>56.901001</td>\n",
              "      <td>25.806200</td>\n",
              "      <td>47762434.0</td>\n",
              "      <td>Light combat craft takes India into club class...</td>\n",
              "    </tr>\n",
              "    <tr>\n",
              "      <th>...</th>\n",
              "      <td>...</td>\n",
              "      <td>...</td>\n",
              "      <td>...</td>\n",
              "      <td>...</td>\n",
              "      <td>...</td>\n",
              "      <td>...</td>\n",
              "      <td>...</td>\n",
              "    </tr>\n",
              "    <tr>\n",
              "      <th>2020-06-26</th>\n",
              "      <td>1728.800049</td>\n",
              "      <td>1752.000000</td>\n",
              "      <td>1717.000000</td>\n",
              "      <td>1741.650024</td>\n",
              "      <td>1735.134888</td>\n",
              "      <td>14270458.0</td>\n",
              "      <td>Containment zone residents slam high prices ch...</td>\n",
              "    </tr>\n",
              "    <tr>\n",
              "      <th>2020-06-27</th>\n",
              "      <td>NaN</td>\n",
              "      <td>NaN</td>\n",
              "      <td>NaN</td>\n",
              "      <td>NaN</td>\n",
              "      <td>NaN</td>\n",
              "      <td>NaN</td>\n",
              "      <td>like me i wont let you have a toxic relationsh...</td>\n",
              "    </tr>\n",
              "    <tr>\n",
              "      <th>2020-06-28</th>\n",
              "      <td>NaN</td>\n",
              "      <td>NaN</td>\n",
              "      <td>NaN</td>\n",
              "      <td>NaN</td>\n",
              "      <td>NaN</td>\n",
              "      <td>NaN</td>\n",
              "      <td>Atanu Ghosh plans to rewrite old scripts to ma...</td>\n",
              "    </tr>\n",
              "    <tr>\n",
              "      <th>2020-06-29</th>\n",
              "      <td>1728.050049</td>\n",
              "      <td>1739.750000</td>\n",
              "      <td>1715.550049</td>\n",
              "      <td>1723.150024</td>\n",
              "      <td>1716.704102</td>\n",
              "      <td>11824524.0</td>\n",
              "      <td>6 hot and stylish bikini looks of Katrina Kaif...</td>\n",
              "    </tr>\n",
              "    <tr>\n",
              "      <th>2020-06-30</th>\n",
              "      <td>NaN</td>\n",
              "      <td>NaN</td>\n",
              "      <td>NaN</td>\n",
              "      <td>NaN</td>\n",
              "      <td>NaN</td>\n",
              "      <td>NaN</td>\n",
              "      <td>Detective Byomkesh Bakshy!,Edge of Tomorrow,Fi...</td>\n",
              "    </tr>\n",
              "  </tbody>\n",
              "</table>\n",
              "<p>7108 rows × 7 columns</p>\n",
              "</div>"
            ],
            "text/plain": [
              "                   Open  ...                                      headline_text\n",
              "2001-01-01    53.105499  ...  win over cena satisfying but defeating underta...\n",
              "2001-01-02    53.160198  ...  Status quo will not be disturbed at Ayodhya; s...\n",
              "2001-01-03    55.448399  ...  Powerless north India gropes in the dark,Think...\n",
              "2001-01-04    56.088799  ...  The string that pulled Stephen Hawking to Indi...\n",
              "2001-01-05    55.682701  ...  Light combat craft takes India into club class...\n",
              "...                 ...  ...                                                ...\n",
              "2020-06-26  1728.800049  ...  Containment zone residents slam high prices ch...\n",
              "2020-06-27          NaN  ...  like me i wont let you have a toxic relationsh...\n",
              "2020-06-28          NaN  ...  Atanu Ghosh plans to rewrite old scripts to ma...\n",
              "2020-06-29  1728.050049  ...  6 hot and stylish bikini looks of Katrina Kaif...\n",
              "2020-06-30          NaN  ...  Detective Byomkesh Bakshy!,Edge of Tomorrow,Fi...\n",
              "\n",
              "[7108 rows x 7 columns]"
            ]
          },
          "metadata": {
            "tags": []
          },
          "execution_count": 15
        }
      ]
    },
    {
      "cell_type": "code",
      "metadata": {
        "colab": {
          "base_uri": "https://localhost:8080/",
          "height": 284
        },
        "id": "PQQq1CdHYmWO",
        "outputId": "a7de6a6d-c1a8-4baa-fb1b-05d7b513b515"
      },
      "source": [
        "data.describe()"
      ],
      "execution_count": null,
      "outputs": [
        {
          "output_type": "execute_result",
          "data": {
            "text/html": [
              "<div>\n",
              "<style scoped>\n",
              "    .dataframe tbody tr th:only-of-type {\n",
              "        vertical-align: middle;\n",
              "    }\n",
              "\n",
              "    .dataframe tbody tr th {\n",
              "        vertical-align: top;\n",
              "    }\n",
              "\n",
              "    .dataframe thead th {\n",
              "        text-align: right;\n",
              "    }\n",
              "</style>\n",
              "<table border=\"1\" class=\"dataframe\">\n",
              "  <thead>\n",
              "    <tr style=\"text-align: right;\">\n",
              "      <th></th>\n",
              "      <th>Open</th>\n",
              "      <th>High</th>\n",
              "      <th>Low</th>\n",
              "      <th>Close</th>\n",
              "      <th>Adj Close</th>\n",
              "      <th>Volume</th>\n",
              "    </tr>\n",
              "  </thead>\n",
              "  <tbody>\n",
              "    <tr>\n",
              "      <th>count</th>\n",
              "      <td>4811.000000</td>\n",
              "      <td>4811.000000</td>\n",
              "      <td>4811.000000</td>\n",
              "      <td>4811.000000</td>\n",
              "      <td>4811.000000</td>\n",
              "      <td>4.811000e+03</td>\n",
              "    </tr>\n",
              "    <tr>\n",
              "      <th>mean</th>\n",
              "      <td>462.968448</td>\n",
              "      <td>468.978911</td>\n",
              "      <td>456.518166</td>\n",
              "      <td>462.515573</td>\n",
              "      <td>423.643741</td>\n",
              "      <td>1.633583e+07</td>\n",
              "    </tr>\n",
              "    <tr>\n",
              "      <th>std</th>\n",
              "      <td>361.715698</td>\n",
              "      <td>366.046107</td>\n",
              "      <td>357.145028</td>\n",
              "      <td>361.397523</td>\n",
              "      <td>366.065500</td>\n",
              "      <td>1.648763e+07</td>\n",
              "    </tr>\n",
              "    <tr>\n",
              "      <th>min</th>\n",
              "      <td>32.784901</td>\n",
              "      <td>35.080898</td>\n",
              "      <td>31.800800</td>\n",
              "      <td>32.269402</td>\n",
              "      <td>15.836563</td>\n",
              "      <td>0.000000e+00</td>\n",
              "    </tr>\n",
              "    <tr>\n",
              "      <th>25%</th>\n",
              "      <td>122.822503</td>\n",
              "      <td>124.200497</td>\n",
              "      <td>120.955997</td>\n",
              "      <td>123.080002</td>\n",
              "      <td>92.793633</td>\n",
              "      <td>6.438588e+06</td>\n",
              "    </tr>\n",
              "    <tr>\n",
              "      <th>50%</th>\n",
              "      <td>437.500000</td>\n",
              "      <td>442.950012</td>\n",
              "      <td>432.000000</td>\n",
              "      <td>437.375000</td>\n",
              "      <td>395.058716</td>\n",
              "      <td>1.021421e+07</td>\n",
              "    </tr>\n",
              "    <tr>\n",
              "      <th>75%</th>\n",
              "      <td>537.000000</td>\n",
              "      <td>543.562500</td>\n",
              "      <td>529.212494</td>\n",
              "      <td>535.769012</td>\n",
              "      <td>484.689697</td>\n",
              "      <td>2.002088e+07</td>\n",
              "    </tr>\n",
              "    <tr>\n",
              "      <th>max</th>\n",
              "      <td>1773.400024</td>\n",
              "      <td>1804.199951</td>\n",
              "      <td>1735.000000</td>\n",
              "      <td>1759.400024</td>\n",
              "      <td>1752.818481</td>\n",
              "      <td>2.890615e+08</td>\n",
              "    </tr>\n",
              "  </tbody>\n",
              "</table>\n",
              "</div>"
            ],
            "text/plain": [
              "              Open         High  ...    Adj Close        Volume\n",
              "count  4811.000000  4811.000000  ...  4811.000000  4.811000e+03\n",
              "mean    462.968448   468.978911  ...   423.643741  1.633583e+07\n",
              "std     361.715698   366.046107  ...   366.065500  1.648763e+07\n",
              "min      32.784901    35.080898  ...    15.836563  0.000000e+00\n",
              "25%     122.822503   124.200497  ...    92.793633  6.438588e+06\n",
              "50%     437.500000   442.950012  ...   395.058716  1.021421e+07\n",
              "75%     537.000000   543.562500  ...   484.689697  2.002088e+07\n",
              "max    1773.400024  1804.199951  ...  1752.818481  2.890615e+08\n",
              "\n",
              "[8 rows x 6 columns]"
            ]
          },
          "metadata": {
            "tags": []
          },
          "execution_count": 16
        }
      ]
    },
    {
      "cell_type": "code",
      "metadata": {
        "id": "gtN5mQoTYmWP"
      },
      "source": [
        "data.dropna(inplace=True)"
      ],
      "execution_count": null,
      "outputs": []
    },
    {
      "cell_type": "code",
      "metadata": {
        "colab": {
          "base_uri": "https://localhost:8080/"
        },
        "id": "cvTf2YygYmWP",
        "outputId": "84197493-9d83-4e8b-8110-c2a21696f1ed"
      },
      "source": [
        "data.isna().sum()"
      ],
      "execution_count": null,
      "outputs": [
        {
          "output_type": "execute_result",
          "data": {
            "text/plain": [
              "Open             0\n",
              "High             0\n",
              "Low              0\n",
              "Close            0\n",
              "Adj Close        0\n",
              "Volume           0\n",
              "headline_text    0\n",
              "dtype: int64"
            ]
          },
          "metadata": {
            "tags": []
          },
          "execution_count": 19
        }
      ]
    },
    {
      "cell_type": "code",
      "metadata": {
        "colab": {
          "base_uri": "https://localhost:8080/",
          "height": 284
        },
        "id": "fSb-idXQYmWP",
        "outputId": "b344126e-f9df-4556-c504-dae267da9017"
      },
      "source": [
        "data.describe()"
      ],
      "execution_count": null,
      "outputs": [
        {
          "output_type": "execute_result",
          "data": {
            "text/html": [
              "<div>\n",
              "<style scoped>\n",
              "    .dataframe tbody tr th:only-of-type {\n",
              "        vertical-align: middle;\n",
              "    }\n",
              "\n",
              "    .dataframe tbody tr th {\n",
              "        vertical-align: top;\n",
              "    }\n",
              "\n",
              "    .dataframe thead th {\n",
              "        text-align: right;\n",
              "    }\n",
              "</style>\n",
              "<table border=\"1\" class=\"dataframe\">\n",
              "  <thead>\n",
              "    <tr style=\"text-align: right;\">\n",
              "      <th></th>\n",
              "      <th>Open</th>\n",
              "      <th>High</th>\n",
              "      <th>Low</th>\n",
              "      <th>Close</th>\n",
              "      <th>Adj Close</th>\n",
              "      <th>Volume</th>\n",
              "    </tr>\n",
              "  </thead>\n",
              "  <tbody>\n",
              "    <tr>\n",
              "      <th>count</th>\n",
              "      <td>4783.000000</td>\n",
              "      <td>4783.000000</td>\n",
              "      <td>4783.000000</td>\n",
              "      <td>4783.000000</td>\n",
              "      <td>4783.000000</td>\n",
              "      <td>4.783000e+03</td>\n",
              "    </tr>\n",
              "    <tr>\n",
              "      <th>mean</th>\n",
              "      <td>465.337671</td>\n",
              "      <td>471.378242</td>\n",
              "      <td>458.854207</td>\n",
              "      <td>464.881601</td>\n",
              "      <td>425.962215</td>\n",
              "      <td>1.628276e+07</td>\n",
              "    </tr>\n",
              "    <tr>\n",
              "      <th>std</th>\n",
              "      <td>361.441004</td>\n",
              "      <td>365.766159</td>\n",
              "      <td>356.877457</td>\n",
              "      <td>361.124316</td>\n",
              "      <td>365.875361</td>\n",
              "      <td>1.648723e+07</td>\n",
              "    </tr>\n",
              "    <tr>\n",
              "      <th>min</th>\n",
              "      <td>32.784901</td>\n",
              "      <td>35.080898</td>\n",
              "      <td>31.800800</td>\n",
              "      <td>32.269402</td>\n",
              "      <td>15.836563</td>\n",
              "      <td>0.000000e+00</td>\n",
              "    </tr>\n",
              "    <tr>\n",
              "      <th>25%</th>\n",
              "      <td>130.108994</td>\n",
              "      <td>131.607994</td>\n",
              "      <td>129.261002</td>\n",
              "      <td>130.061996</td>\n",
              "      <td>98.057533</td>\n",
              "      <td>6.429630e+06</td>\n",
              "    </tr>\n",
              "    <tr>\n",
              "      <th>50%</th>\n",
              "      <td>438.399994</td>\n",
              "      <td>444.000000</td>\n",
              "      <td>433.000000</td>\n",
              "      <td>437.975006</td>\n",
              "      <td>396.230133</td>\n",
              "      <td>1.017096e+07</td>\n",
              "    </tr>\n",
              "    <tr>\n",
              "      <th>75%</th>\n",
              "      <td>537.387512</td>\n",
              "      <td>544.187500</td>\n",
              "      <td>530.000000</td>\n",
              "      <td>536.375000</td>\n",
              "      <td>485.382492</td>\n",
              "      <td>1.989520e+07</td>\n",
              "    </tr>\n",
              "    <tr>\n",
              "      <th>max</th>\n",
              "      <td>1773.400024</td>\n",
              "      <td>1804.199951</td>\n",
              "      <td>1735.000000</td>\n",
              "      <td>1759.400024</td>\n",
              "      <td>1752.818481</td>\n",
              "      <td>2.890615e+08</td>\n",
              "    </tr>\n",
              "  </tbody>\n",
              "</table>\n",
              "</div>"
            ],
            "text/plain": [
              "              Open         High  ...    Adj Close        Volume\n",
              "count  4783.000000  4783.000000  ...  4783.000000  4.783000e+03\n",
              "mean    465.337671   471.378242  ...   425.962215  1.628276e+07\n",
              "std     361.441004   365.766159  ...   365.875361  1.648723e+07\n",
              "min      32.784901    35.080898  ...    15.836563  0.000000e+00\n",
              "25%     130.108994   131.607994  ...    98.057533  6.429630e+06\n",
              "50%     438.399994   444.000000  ...   396.230133  1.017096e+07\n",
              "75%     537.387512   544.187500  ...   485.382492  1.989520e+07\n",
              "max    1773.400024  1804.199951  ...  1752.818481  2.890615e+08\n",
              "\n",
              "[8 rows x 6 columns]"
            ]
          },
          "metadata": {
            "tags": []
          },
          "execution_count": 20
        }
      ]
    },
    {
      "cell_type": "code",
      "metadata": {
        "colab": {
          "base_uri": "https://localhost:8080/",
          "height": 402
        },
        "id": "WxyA2l6RYmWP",
        "outputId": "00d07b87-dac3-445a-9756-10c6471ab240"
      },
      "source": [
        "data"
      ],
      "execution_count": null,
      "outputs": [
        {
          "output_type": "execute_result",
          "data": {
            "text/html": [
              "<div>\n",
              "<style scoped>\n",
              "    .dataframe tbody tr th:only-of-type {\n",
              "        vertical-align: middle;\n",
              "    }\n",
              "\n",
              "    .dataframe tbody tr th {\n",
              "        vertical-align: top;\n",
              "    }\n",
              "\n",
              "    .dataframe thead th {\n",
              "        text-align: right;\n",
              "    }\n",
              "</style>\n",
              "<table border=\"1\" class=\"dataframe\">\n",
              "  <thead>\n",
              "    <tr style=\"text-align: right;\">\n",
              "      <th></th>\n",
              "      <th>Open</th>\n",
              "      <th>High</th>\n",
              "      <th>Low</th>\n",
              "      <th>Close</th>\n",
              "      <th>Adj Close</th>\n",
              "      <th>Volume</th>\n",
              "      <th>headline_text</th>\n",
              "    </tr>\n",
              "  </thead>\n",
              "  <tbody>\n",
              "    <tr>\n",
              "      <th>2001-01-01</th>\n",
              "      <td>53.105499</td>\n",
              "      <td>53.675701</td>\n",
              "      <td>52.949402</td>\n",
              "      <td>53.378899</td>\n",
              "      <td>24.208828</td>\n",
              "      <td>19259768.0</td>\n",
              "      <td>win over cena satisfying but defeating underta...</td>\n",
              "    </tr>\n",
              "    <tr>\n",
              "      <th>2001-01-02</th>\n",
              "      <td>53.160198</td>\n",
              "      <td>56.073200</td>\n",
              "      <td>53.144600</td>\n",
              "      <td>55.339100</td>\n",
              "      <td>25.097834</td>\n",
              "      <td>42408935.0</td>\n",
              "      <td>Status quo will not be disturbed at Ayodhya; s...</td>\n",
              "    </tr>\n",
              "    <tr>\n",
              "      <th>2001-01-03</th>\n",
              "      <td>55.448399</td>\n",
              "      <td>56.494900</td>\n",
              "      <td>55.136101</td>\n",
              "      <td>56.237202</td>\n",
              "      <td>25.505148</td>\n",
              "      <td>56622894.0</td>\n",
              "      <td>Powerless north India gropes in the dark,Think...</td>\n",
              "    </tr>\n",
              "    <tr>\n",
              "      <th>2001-01-04</th>\n",
              "      <td>56.088799</td>\n",
              "      <td>57.307098</td>\n",
              "      <td>55.635899</td>\n",
              "      <td>55.885799</td>\n",
              "      <td>25.345785</td>\n",
              "      <td>38303310.0</td>\n",
              "      <td>The string that pulled Stephen Hawking to Indi...</td>\n",
              "    </tr>\n",
              "    <tr>\n",
              "      <th>2001-01-05</th>\n",
              "      <td>55.682701</td>\n",
              "      <td>57.291500</td>\n",
              "      <td>55.682701</td>\n",
              "      <td>56.901001</td>\n",
              "      <td>25.806200</td>\n",
              "      <td>47762434.0</td>\n",
              "      <td>Light combat craft takes India into club class...</td>\n",
              "    </tr>\n",
              "    <tr>\n",
              "      <th>...</th>\n",
              "      <td>...</td>\n",
              "      <td>...</td>\n",
              "      <td>...</td>\n",
              "      <td>...</td>\n",
              "      <td>...</td>\n",
              "      <td>...</td>\n",
              "      <td>...</td>\n",
              "    </tr>\n",
              "    <tr>\n",
              "      <th>2020-06-23</th>\n",
              "      <td>1750.000000</td>\n",
              "      <td>1763.750000</td>\n",
              "      <td>1716.099976</td>\n",
              "      <td>1720.900024</td>\n",
              "      <td>1714.462524</td>\n",
              "      <td>17519493.0</td>\n",
              "      <td>Delayed periods? Time to accept that household...</td>\n",
              "    </tr>\n",
              "    <tr>\n",
              "      <th>2020-06-24</th>\n",
              "      <td>1735.900024</td>\n",
              "      <td>1772.699951</td>\n",
              "      <td>1711.699951</td>\n",
              "      <td>1727.849976</td>\n",
              "      <td>1721.386475</td>\n",
              "      <td>23807033.0</td>\n",
              "      <td>I never thought I had a voice until today: Vid...</td>\n",
              "    </tr>\n",
              "    <tr>\n",
              "      <th>2020-06-25</th>\n",
              "      <td>1727.000000</td>\n",
              "      <td>1749.000000</td>\n",
              "      <td>1713.050049</td>\n",
              "      <td>1717.900024</td>\n",
              "      <td>1711.473755</td>\n",
              "      <td>18312025.0</td>\n",
              "      <td>Truck firms look for new export markets to sel...</td>\n",
              "    </tr>\n",
              "    <tr>\n",
              "      <th>2020-06-26</th>\n",
              "      <td>1728.800049</td>\n",
              "      <td>1752.000000</td>\n",
              "      <td>1717.000000</td>\n",
              "      <td>1741.650024</td>\n",
              "      <td>1735.134888</td>\n",
              "      <td>14270458.0</td>\n",
              "      <td>Containment zone residents slam high prices ch...</td>\n",
              "    </tr>\n",
              "    <tr>\n",
              "      <th>2020-06-29</th>\n",
              "      <td>1728.050049</td>\n",
              "      <td>1739.750000</td>\n",
              "      <td>1715.550049</td>\n",
              "      <td>1723.150024</td>\n",
              "      <td>1716.704102</td>\n",
              "      <td>11824524.0</td>\n",
              "      <td>6 hot and stylish bikini looks of Katrina Kaif...</td>\n",
              "    </tr>\n",
              "  </tbody>\n",
              "</table>\n",
              "<p>4783 rows × 7 columns</p>\n",
              "</div>"
            ],
            "text/plain": [
              "                   Open  ...                                      headline_text\n",
              "2001-01-01    53.105499  ...  win over cena satisfying but defeating underta...\n",
              "2001-01-02    53.160198  ...  Status quo will not be disturbed at Ayodhya; s...\n",
              "2001-01-03    55.448399  ...  Powerless north India gropes in the dark,Think...\n",
              "2001-01-04    56.088799  ...  The string that pulled Stephen Hawking to Indi...\n",
              "2001-01-05    55.682701  ...  Light combat craft takes India into club class...\n",
              "...                 ...  ...                                                ...\n",
              "2020-06-23  1750.000000  ...  Delayed periods? Time to accept that household...\n",
              "2020-06-24  1735.900024  ...  I never thought I had a voice until today: Vid...\n",
              "2020-06-25  1727.000000  ...  Truck firms look for new export markets to sel...\n",
              "2020-06-26  1728.800049  ...  Containment zone residents slam high prices ch...\n",
              "2020-06-29  1728.050049  ...  6 hot and stylish bikini looks of Katrina Kaif...\n",
              "\n",
              "[4783 rows x 7 columns]"
            ]
          },
          "metadata": {
            "tags": []
          },
          "execution_count": 21
        }
      ]
    },
    {
      "cell_type": "code",
      "metadata": {
        "id": "0gBM8A5tYmWP"
      },
      "source": [
        "from nltk.sentiment.vader import SentimentIntensityAnalyzer\n",
        "import unicodedata"
      ],
      "execution_count": null,
      "outputs": []
    },
    {
      "cell_type": "code",
      "metadata": {
        "id": "N8FRSrHUYmWP"
      },
      "source": [
        "data['compound']=''\n",
        "data['neutral'] = ''\n",
        "data['positive'] = ''\n",
        "data['negative'] = ''"
      ],
      "execution_count": null,
      "outputs": []
    },
    {
      "cell_type": "code",
      "metadata": {
        "colab": {
          "base_uri": "https://localhost:8080/",
          "height": 528
        },
        "id": "A-lfYwfjYmWQ",
        "outputId": "f049bee8-70c4-4e6c-d620-765cbf5ff2ed"
      },
      "source": [
        "data.head(10)"
      ],
      "execution_count": null,
      "outputs": [
        {
          "output_type": "execute_result",
          "data": {
            "text/html": [
              "<div>\n",
              "<style scoped>\n",
              "    .dataframe tbody tr th:only-of-type {\n",
              "        vertical-align: middle;\n",
              "    }\n",
              "\n",
              "    .dataframe tbody tr th {\n",
              "        vertical-align: top;\n",
              "    }\n",
              "\n",
              "    .dataframe thead th {\n",
              "        text-align: right;\n",
              "    }\n",
              "</style>\n",
              "<table border=\"1\" class=\"dataframe\">\n",
              "  <thead>\n",
              "    <tr style=\"text-align: right;\">\n",
              "      <th></th>\n",
              "      <th>Open</th>\n",
              "      <th>High</th>\n",
              "      <th>Low</th>\n",
              "      <th>Close</th>\n",
              "      <th>Adj Close</th>\n",
              "      <th>Volume</th>\n",
              "      <th>headline_text</th>\n",
              "      <th>compound</th>\n",
              "      <th>neutral</th>\n",
              "      <th>positive</th>\n",
              "      <th>negative</th>\n",
              "    </tr>\n",
              "  </thead>\n",
              "  <tbody>\n",
              "    <tr>\n",
              "      <th>2001-01-01</th>\n",
              "      <td>53.105499</td>\n",
              "      <td>53.675701</td>\n",
              "      <td>52.949402</td>\n",
              "      <td>53.378899</td>\n",
              "      <td>24.208828</td>\n",
              "      <td>19259768.0</td>\n",
              "      <td>win over cena satisfying but defeating underta...</td>\n",
              "      <td></td>\n",
              "      <td></td>\n",
              "      <td></td>\n",
              "      <td></td>\n",
              "    </tr>\n",
              "    <tr>\n",
              "      <th>2001-01-02</th>\n",
              "      <td>53.160198</td>\n",
              "      <td>56.073200</td>\n",
              "      <td>53.144600</td>\n",
              "      <td>55.339100</td>\n",
              "      <td>25.097834</td>\n",
              "      <td>42408935.0</td>\n",
              "      <td>Status quo will not be disturbed at Ayodhya; s...</td>\n",
              "      <td></td>\n",
              "      <td></td>\n",
              "      <td></td>\n",
              "      <td></td>\n",
              "    </tr>\n",
              "    <tr>\n",
              "      <th>2001-01-03</th>\n",
              "      <td>55.448399</td>\n",
              "      <td>56.494900</td>\n",
              "      <td>55.136101</td>\n",
              "      <td>56.237202</td>\n",
              "      <td>25.505148</td>\n",
              "      <td>56622894.0</td>\n",
              "      <td>Powerless north India gropes in the dark,Think...</td>\n",
              "      <td></td>\n",
              "      <td></td>\n",
              "      <td></td>\n",
              "      <td></td>\n",
              "    </tr>\n",
              "    <tr>\n",
              "      <th>2001-01-04</th>\n",
              "      <td>56.088799</td>\n",
              "      <td>57.307098</td>\n",
              "      <td>55.635899</td>\n",
              "      <td>55.885799</td>\n",
              "      <td>25.345785</td>\n",
              "      <td>38303310.0</td>\n",
              "      <td>The string that pulled Stephen Hawking to Indi...</td>\n",
              "      <td></td>\n",
              "      <td></td>\n",
              "      <td></td>\n",
              "      <td></td>\n",
              "    </tr>\n",
              "    <tr>\n",
              "      <th>2001-01-05</th>\n",
              "      <td>55.682701</td>\n",
              "      <td>57.291500</td>\n",
              "      <td>55.682701</td>\n",
              "      <td>56.901001</td>\n",
              "      <td>25.806200</td>\n",
              "      <td>47762434.0</td>\n",
              "      <td>Light combat craft takes India into club class...</td>\n",
              "      <td></td>\n",
              "      <td></td>\n",
              "      <td></td>\n",
              "      <td></td>\n",
              "    </tr>\n",
              "    <tr>\n",
              "      <th>2001-01-08</th>\n",
              "      <td>56.619900</td>\n",
              "      <td>57.393002</td>\n",
              "      <td>55.799900</td>\n",
              "      <td>56.260601</td>\n",
              "      <td>25.515766</td>\n",
              "      <td>43809518.0</td>\n",
              "      <td>Sangh Parivar; Babri panel up the ante,Frontru...</td>\n",
              "      <td></td>\n",
              "      <td></td>\n",
              "      <td></td>\n",
              "      <td></td>\n",
              "    </tr>\n",
              "    <tr>\n",
              "      <th>2001-01-09</th>\n",
              "      <td>56.135700</td>\n",
              "      <td>56.510601</td>\n",
              "      <td>55.776501</td>\n",
              "      <td>55.909199</td>\n",
              "      <td>25.356398</td>\n",
              "      <td>28898145.0</td>\n",
              "      <td>Financier Bharat Shah held for alleged links w...</td>\n",
              "      <td></td>\n",
              "      <td></td>\n",
              "      <td></td>\n",
              "      <td></td>\n",
              "    </tr>\n",
              "    <tr>\n",
              "      <th>2001-01-10</th>\n",
              "      <td>56.002899</td>\n",
              "      <td>56.455898</td>\n",
              "      <td>54.534698</td>\n",
              "      <td>54.932999</td>\n",
              "      <td>24.913660</td>\n",
              "      <td>30288075.0</td>\n",
              "      <td>Fend for yourselves; Pande tells doctors,Burea...</td>\n",
              "      <td></td>\n",
              "      <td></td>\n",
              "      <td></td>\n",
              "      <td></td>\n",
              "    </tr>\n",
              "    <tr>\n",
              "      <th>2001-01-11</th>\n",
              "      <td>55.057999</td>\n",
              "      <td>55.807701</td>\n",
              "      <td>54.823700</td>\n",
              "      <td>55.573399</td>\n",
              "      <td>25.204098</td>\n",
              "      <td>26062495.0</td>\n",
              "      <td>shreyas gopal scores ton as karnataka stay on ...</td>\n",
              "      <td></td>\n",
              "      <td></td>\n",
              "      <td></td>\n",
              "      <td></td>\n",
              "    </tr>\n",
              "    <tr>\n",
              "      <th>2001-01-23</th>\n",
              "      <td>58.533199</td>\n",
              "      <td>60.017101</td>\n",
              "      <td>58.533199</td>\n",
              "      <td>59.611000</td>\n",
              "      <td>27.035267</td>\n",
              "      <td>52973026.0</td>\n",
              "      <td>Sonia takes on the Hindutva brigade,Congress h...</td>\n",
              "      <td></td>\n",
              "      <td></td>\n",
              "      <td></td>\n",
              "      <td></td>\n",
              "    </tr>\n",
              "  </tbody>\n",
              "</table>\n",
              "</div>"
            ],
            "text/plain": [
              "                 Open       High        Low  ...  neutral  positive  negative\n",
              "2001-01-01  53.105499  53.675701  52.949402  ...                             \n",
              "2001-01-02  53.160198  56.073200  53.144600  ...                             \n",
              "2001-01-03  55.448399  56.494900  55.136101  ...                             \n",
              "2001-01-04  56.088799  57.307098  55.635899  ...                             \n",
              "2001-01-05  55.682701  57.291500  55.682701  ...                             \n",
              "2001-01-08  56.619900  57.393002  55.799900  ...                             \n",
              "2001-01-09  56.135700  56.510601  55.776501  ...                             \n",
              "2001-01-10  56.002899  56.455898  54.534698  ...                             \n",
              "2001-01-11  55.057999  55.807701  54.823700  ...                             \n",
              "2001-01-23  58.533199  60.017101  58.533199  ...                             \n",
              "\n",
              "[10 rows x 11 columns]"
            ]
          },
          "metadata": {
            "tags": []
          },
          "execution_count": 24
        }
      ]
    },
    {
      "cell_type": "code",
      "metadata": {
        "colab": {
          "base_uri": "https://localhost:8080/"
        },
        "id": "qjLCMvg4YmWQ",
        "outputId": "3824cfa2-aa27-4bc4-8cce-7c138a429ceb"
      },
      "source": [
        "nltk.download('vader_lexicon')"
      ],
      "execution_count": null,
      "outputs": [
        {
          "output_type": "stream",
          "text": [
            "[nltk_data] Downloading package vader_lexicon to /root/nltk_data...\n"
          ],
          "name": "stdout"
        },
        {
          "output_type": "execute_result",
          "data": {
            "text/plain": [
              "True"
            ]
          },
          "metadata": {
            "tags": []
          },
          "execution_count": 25
        }
      ]
    },
    {
      "cell_type": "code",
      "metadata": {
        "scrolled": true,
        "id": "qlOImyKaYmWQ"
      },
      "source": [
        "sid = SentimentIntensityAnalyzer()"
      ],
      "execution_count": null,
      "outputs": []
    },
    {
      "cell_type": "code",
      "metadata": {
        "colab": {
          "base_uri": "https://localhost:8080/",
          "height": 586
        },
        "id": "VP14BzxiYmWQ",
        "outputId": "5968d4c7-17ac-4196-c6a1-0dfdf097efe4"
      },
      "source": [
        "data"
      ],
      "execution_count": null,
      "outputs": [
        {
          "output_type": "execute_result",
          "data": {
            "text/html": [
              "<div>\n",
              "<style scoped>\n",
              "    .dataframe tbody tr th:only-of-type {\n",
              "        vertical-align: middle;\n",
              "    }\n",
              "\n",
              "    .dataframe tbody tr th {\n",
              "        vertical-align: top;\n",
              "    }\n",
              "\n",
              "    .dataframe thead th {\n",
              "        text-align: right;\n",
              "    }\n",
              "</style>\n",
              "<table border=\"1\" class=\"dataframe\">\n",
              "  <thead>\n",
              "    <tr style=\"text-align: right;\">\n",
              "      <th></th>\n",
              "      <th>Open</th>\n",
              "      <th>High</th>\n",
              "      <th>Low</th>\n",
              "      <th>Close</th>\n",
              "      <th>Adj Close</th>\n",
              "      <th>Volume</th>\n",
              "      <th>headline_text</th>\n",
              "      <th>compound</th>\n",
              "      <th>neutral</th>\n",
              "      <th>positive</th>\n",
              "      <th>negative</th>\n",
              "    </tr>\n",
              "  </thead>\n",
              "  <tbody>\n",
              "    <tr>\n",
              "      <th>2001-01-01</th>\n",
              "      <td>53.105499</td>\n",
              "      <td>53.675701</td>\n",
              "      <td>52.949402</td>\n",
              "      <td>53.378899</td>\n",
              "      <td>24.208828</td>\n",
              "      <td>19259768.0</td>\n",
              "      <td>win over cena satisfying but defeating underta...</td>\n",
              "      <td></td>\n",
              "      <td></td>\n",
              "      <td></td>\n",
              "      <td></td>\n",
              "    </tr>\n",
              "    <tr>\n",
              "      <th>2001-01-02</th>\n",
              "      <td>53.160198</td>\n",
              "      <td>56.073200</td>\n",
              "      <td>53.144600</td>\n",
              "      <td>55.339100</td>\n",
              "      <td>25.097834</td>\n",
              "      <td>42408935.0</td>\n",
              "      <td>Status quo will not be disturbed at Ayodhya; s...</td>\n",
              "      <td></td>\n",
              "      <td></td>\n",
              "      <td></td>\n",
              "      <td></td>\n",
              "    </tr>\n",
              "    <tr>\n",
              "      <th>2001-01-03</th>\n",
              "      <td>55.448399</td>\n",
              "      <td>56.494900</td>\n",
              "      <td>55.136101</td>\n",
              "      <td>56.237202</td>\n",
              "      <td>25.505148</td>\n",
              "      <td>56622894.0</td>\n",
              "      <td>Powerless north India gropes in the dark,Think...</td>\n",
              "      <td></td>\n",
              "      <td></td>\n",
              "      <td></td>\n",
              "      <td></td>\n",
              "    </tr>\n",
              "    <tr>\n",
              "      <th>2001-01-04</th>\n",
              "      <td>56.088799</td>\n",
              "      <td>57.307098</td>\n",
              "      <td>55.635899</td>\n",
              "      <td>55.885799</td>\n",
              "      <td>25.345785</td>\n",
              "      <td>38303310.0</td>\n",
              "      <td>The string that pulled Stephen Hawking to Indi...</td>\n",
              "      <td></td>\n",
              "      <td></td>\n",
              "      <td></td>\n",
              "      <td></td>\n",
              "    </tr>\n",
              "    <tr>\n",
              "      <th>2001-01-05</th>\n",
              "      <td>55.682701</td>\n",
              "      <td>57.291500</td>\n",
              "      <td>55.682701</td>\n",
              "      <td>56.901001</td>\n",
              "      <td>25.806200</td>\n",
              "      <td>47762434.0</td>\n",
              "      <td>Light combat craft takes India into club class...</td>\n",
              "      <td></td>\n",
              "      <td></td>\n",
              "      <td></td>\n",
              "      <td></td>\n",
              "    </tr>\n",
              "    <tr>\n",
              "      <th>...</th>\n",
              "      <td>...</td>\n",
              "      <td>...</td>\n",
              "      <td>...</td>\n",
              "      <td>...</td>\n",
              "      <td>...</td>\n",
              "      <td>...</td>\n",
              "      <td>...</td>\n",
              "      <td>...</td>\n",
              "      <td>...</td>\n",
              "      <td>...</td>\n",
              "      <td>...</td>\n",
              "    </tr>\n",
              "    <tr>\n",
              "      <th>2020-06-23</th>\n",
              "      <td>1750.000000</td>\n",
              "      <td>1763.750000</td>\n",
              "      <td>1716.099976</td>\n",
              "      <td>1720.900024</td>\n",
              "      <td>1714.462524</td>\n",
              "      <td>17519493.0</td>\n",
              "      <td>Delayed periods? Time to accept that household...</td>\n",
              "      <td></td>\n",
              "      <td></td>\n",
              "      <td></td>\n",
              "      <td></td>\n",
              "    </tr>\n",
              "    <tr>\n",
              "      <th>2020-06-24</th>\n",
              "      <td>1735.900024</td>\n",
              "      <td>1772.699951</td>\n",
              "      <td>1711.699951</td>\n",
              "      <td>1727.849976</td>\n",
              "      <td>1721.386475</td>\n",
              "      <td>23807033.0</td>\n",
              "      <td>I never thought I had a voice until today: Vid...</td>\n",
              "      <td></td>\n",
              "      <td></td>\n",
              "      <td></td>\n",
              "      <td></td>\n",
              "    </tr>\n",
              "    <tr>\n",
              "      <th>2020-06-25</th>\n",
              "      <td>1727.000000</td>\n",
              "      <td>1749.000000</td>\n",
              "      <td>1713.050049</td>\n",
              "      <td>1717.900024</td>\n",
              "      <td>1711.473755</td>\n",
              "      <td>18312025.0</td>\n",
              "      <td>Truck firms look for new export markets to sel...</td>\n",
              "      <td></td>\n",
              "      <td></td>\n",
              "      <td></td>\n",
              "      <td></td>\n",
              "    </tr>\n",
              "    <tr>\n",
              "      <th>2020-06-26</th>\n",
              "      <td>1728.800049</td>\n",
              "      <td>1752.000000</td>\n",
              "      <td>1717.000000</td>\n",
              "      <td>1741.650024</td>\n",
              "      <td>1735.134888</td>\n",
              "      <td>14270458.0</td>\n",
              "      <td>Containment zone residents slam high prices ch...</td>\n",
              "      <td></td>\n",
              "      <td></td>\n",
              "      <td></td>\n",
              "      <td></td>\n",
              "    </tr>\n",
              "    <tr>\n",
              "      <th>2020-06-29</th>\n",
              "      <td>1728.050049</td>\n",
              "      <td>1739.750000</td>\n",
              "      <td>1715.550049</td>\n",
              "      <td>1723.150024</td>\n",
              "      <td>1716.704102</td>\n",
              "      <td>11824524.0</td>\n",
              "      <td>6 hot and stylish bikini looks of Katrina Kaif...</td>\n",
              "      <td></td>\n",
              "      <td></td>\n",
              "      <td></td>\n",
              "      <td></td>\n",
              "    </tr>\n",
              "  </tbody>\n",
              "</table>\n",
              "<p>4783 rows × 11 columns</p>\n",
              "</div>"
            ],
            "text/plain": [
              "                   Open         High          Low  ...  neutral  positive  negative\n",
              "2001-01-01    53.105499    53.675701    52.949402  ...                             \n",
              "2001-01-02    53.160198    56.073200    53.144600  ...                             \n",
              "2001-01-03    55.448399    56.494900    55.136101  ...                             \n",
              "2001-01-04    56.088799    57.307098    55.635899  ...                             \n",
              "2001-01-05    55.682701    57.291500    55.682701  ...                             \n",
              "...                 ...          ...          ...  ...      ...       ...       ...\n",
              "2020-06-23  1750.000000  1763.750000  1716.099976  ...                             \n",
              "2020-06-24  1735.900024  1772.699951  1711.699951  ...                             \n",
              "2020-06-25  1727.000000  1749.000000  1713.050049  ...                             \n",
              "2020-06-26  1728.800049  1752.000000  1717.000000  ...                             \n",
              "2020-06-29  1728.050049  1739.750000  1715.550049  ...                             \n",
              "\n",
              "[4783 rows x 11 columns]"
            ]
          },
          "metadata": {
            "tags": []
          },
          "execution_count": 27
        }
      ]
    },
    {
      "cell_type": "code",
      "metadata": {
        "id": "ul8qYCJmYmWQ"
      },
      "source": [
        "data['compound'] = data['headline_text'].apply(lambda x: sid.polarity_scores(x)['compound'])"
      ],
      "execution_count": null,
      "outputs": []
    },
    {
      "cell_type": "code",
      "metadata": {
        "id": "y6AxwqZQYmWR"
      },
      "source": [
        "data['neutral'] = data['headline_text'].apply(lambda x: sid.polarity_scores(x)['neu'])"
      ],
      "execution_count": null,
      "outputs": []
    },
    {
      "cell_type": "code",
      "metadata": {
        "id": "jwonhgyqYmWR"
      },
      "source": [
        "data['positive'] = data['headline_text'].apply(lambda x: sid.polarity_scores(x)['pos'])"
      ],
      "execution_count": null,
      "outputs": []
    },
    {
      "cell_type": "code",
      "metadata": {
        "id": "bDJpnIWNYmWR"
      },
      "source": [
        "data['negative'] = data['headline_text'].apply(lambda x: sid.polarity_scores(x)['neg'])"
      ],
      "execution_count": null,
      "outputs": []
    },
    {
      "cell_type": "code",
      "metadata": {
        "colab": {
          "base_uri": "https://localhost:8080/",
          "height": 586
        },
        "id": "N-xzQEblqenN",
        "outputId": "acdd9e01-0190-4d9f-db2c-72752f47a4c1"
      },
      "source": [
        "data"
      ],
      "execution_count": null,
      "outputs": [
        {
          "output_type": "execute_result",
          "data": {
            "text/html": [
              "<div>\n",
              "<style scoped>\n",
              "    .dataframe tbody tr th:only-of-type {\n",
              "        vertical-align: middle;\n",
              "    }\n",
              "\n",
              "    .dataframe tbody tr th {\n",
              "        vertical-align: top;\n",
              "    }\n",
              "\n",
              "    .dataframe thead th {\n",
              "        text-align: right;\n",
              "    }\n",
              "</style>\n",
              "<table border=\"1\" class=\"dataframe\">\n",
              "  <thead>\n",
              "    <tr style=\"text-align: right;\">\n",
              "      <th></th>\n",
              "      <th>Open</th>\n",
              "      <th>High</th>\n",
              "      <th>Low</th>\n",
              "      <th>Close</th>\n",
              "      <th>Adj Close</th>\n",
              "      <th>Volume</th>\n",
              "      <th>headline_text</th>\n",
              "      <th>compound</th>\n",
              "      <th>neutral</th>\n",
              "      <th>positive</th>\n",
              "      <th>negative</th>\n",
              "    </tr>\n",
              "  </thead>\n",
              "  <tbody>\n",
              "    <tr>\n",
              "      <th>2001-01-01</th>\n",
              "      <td>53.105499</td>\n",
              "      <td>53.675701</td>\n",
              "      <td>52.949402</td>\n",
              "      <td>53.378899</td>\n",
              "      <td>24.208828</td>\n",
              "      <td>19259768.0</td>\n",
              "      <td>win over cena satisfying but defeating underta...</td>\n",
              "      <td>-0.0000</td>\n",
              "      <td>0.473</td>\n",
              "      <td>0.297</td>\n",
              "      <td>0.230</td>\n",
              "    </tr>\n",
              "    <tr>\n",
              "      <th>2001-01-02</th>\n",
              "      <td>53.160198</td>\n",
              "      <td>56.073200</td>\n",
              "      <td>53.144600</td>\n",
              "      <td>55.339100</td>\n",
              "      <td>25.097834</td>\n",
              "      <td>42408935.0</td>\n",
              "      <td>Status quo will not be disturbed at Ayodhya; s...</td>\n",
              "      <td>-0.9621</td>\n",
              "      <td>0.817</td>\n",
              "      <td>0.064</td>\n",
              "      <td>0.119</td>\n",
              "    </tr>\n",
              "    <tr>\n",
              "      <th>2001-01-03</th>\n",
              "      <td>55.448399</td>\n",
              "      <td>56.494900</td>\n",
              "      <td>55.136101</td>\n",
              "      <td>56.237202</td>\n",
              "      <td>25.505148</td>\n",
              "      <td>56622894.0</td>\n",
              "      <td>Powerless north India gropes in the dark,Think...</td>\n",
              "      <td>0.6322</td>\n",
              "      <td>0.817</td>\n",
              "      <td>0.098</td>\n",
              "      <td>0.084</td>\n",
              "    </tr>\n",
              "    <tr>\n",
              "      <th>2001-01-04</th>\n",
              "      <td>56.088799</td>\n",
              "      <td>57.307098</td>\n",
              "      <td>55.635899</td>\n",
              "      <td>55.885799</td>\n",
              "      <td>25.345785</td>\n",
              "      <td>38303310.0</td>\n",
              "      <td>The string that pulled Stephen Hawking to Indi...</td>\n",
              "      <td>0.6648</td>\n",
              "      <td>0.843</td>\n",
              "      <td>0.080</td>\n",
              "      <td>0.077</td>\n",
              "    </tr>\n",
              "    <tr>\n",
              "      <th>2001-01-05</th>\n",
              "      <td>55.682701</td>\n",
              "      <td>57.291500</td>\n",
              "      <td>55.682701</td>\n",
              "      <td>56.901001</td>\n",
              "      <td>25.806200</td>\n",
              "      <td>47762434.0</td>\n",
              "      <td>Light combat craft takes India into club class...</td>\n",
              "      <td>0.9032</td>\n",
              "      <td>0.746</td>\n",
              "      <td>0.149</td>\n",
              "      <td>0.105</td>\n",
              "    </tr>\n",
              "    <tr>\n",
              "      <th>...</th>\n",
              "      <td>...</td>\n",
              "      <td>...</td>\n",
              "      <td>...</td>\n",
              "      <td>...</td>\n",
              "      <td>...</td>\n",
              "      <td>...</td>\n",
              "      <td>...</td>\n",
              "      <td>...</td>\n",
              "      <td>...</td>\n",
              "      <td>...</td>\n",
              "      <td>...</td>\n",
              "    </tr>\n",
              "    <tr>\n",
              "      <th>2020-06-23</th>\n",
              "      <td>1750.000000</td>\n",
              "      <td>1763.750000</td>\n",
              "      <td>1716.099976</td>\n",
              "      <td>1720.900024</td>\n",
              "      <td>1714.462524</td>\n",
              "      <td>17519493.0</td>\n",
              "      <td>Delayed periods? Time to accept that household...</td>\n",
              "      <td>-0.9999</td>\n",
              "      <td>0.787</td>\n",
              "      <td>0.072</td>\n",
              "      <td>0.141</td>\n",
              "    </tr>\n",
              "    <tr>\n",
              "      <th>2020-06-24</th>\n",
              "      <td>1735.900024</td>\n",
              "      <td>1772.699951</td>\n",
              "      <td>1711.699951</td>\n",
              "      <td>1727.849976</td>\n",
              "      <td>1721.386475</td>\n",
              "      <td>23807033.0</td>\n",
              "      <td>I never thought I had a voice until today: Vid...</td>\n",
              "      <td>-0.9997</td>\n",
              "      <td>0.811</td>\n",
              "      <td>0.074</td>\n",
              "      <td>0.115</td>\n",
              "    </tr>\n",
              "    <tr>\n",
              "      <th>2020-06-25</th>\n",
              "      <td>1727.000000</td>\n",
              "      <td>1749.000000</td>\n",
              "      <td>1713.050049</td>\n",
              "      <td>1717.900024</td>\n",
              "      <td>1711.473755</td>\n",
              "      <td>18312025.0</td>\n",
              "      <td>Truck firms look for new export markets to sel...</td>\n",
              "      <td>-0.9999</td>\n",
              "      <td>0.820</td>\n",
              "      <td>0.054</td>\n",
              "      <td>0.126</td>\n",
              "    </tr>\n",
              "    <tr>\n",
              "      <th>2020-06-26</th>\n",
              "      <td>1728.800049</td>\n",
              "      <td>1752.000000</td>\n",
              "      <td>1717.000000</td>\n",
              "      <td>1741.650024</td>\n",
              "      <td>1735.134888</td>\n",
              "      <td>14270458.0</td>\n",
              "      <td>Containment zone residents slam high prices ch...</td>\n",
              "      <td>-0.9999</td>\n",
              "      <td>0.766</td>\n",
              "      <td>0.085</td>\n",
              "      <td>0.149</td>\n",
              "    </tr>\n",
              "    <tr>\n",
              "      <th>2020-06-29</th>\n",
              "      <td>1728.050049</td>\n",
              "      <td>1739.750000</td>\n",
              "      <td>1715.550049</td>\n",
              "      <td>1723.150024</td>\n",
              "      <td>1716.704102</td>\n",
              "      <td>11824524.0</td>\n",
              "      <td>6 hot and stylish bikini looks of Katrina Kaif...</td>\n",
              "      <td>-0.9997</td>\n",
              "      <td>0.804</td>\n",
              "      <td>0.078</td>\n",
              "      <td>0.119</td>\n",
              "    </tr>\n",
              "  </tbody>\n",
              "</table>\n",
              "<p>4783 rows × 11 columns</p>\n",
              "</div>"
            ],
            "text/plain": [
              "                   Open         High          Low  ...  neutral  positive  negative\n",
              "2001-01-01    53.105499    53.675701    52.949402  ...    0.473     0.297     0.230\n",
              "2001-01-02    53.160198    56.073200    53.144600  ...    0.817     0.064     0.119\n",
              "2001-01-03    55.448399    56.494900    55.136101  ...    0.817     0.098     0.084\n",
              "2001-01-04    56.088799    57.307098    55.635899  ...    0.843     0.080     0.077\n",
              "2001-01-05    55.682701    57.291500    55.682701  ...    0.746     0.149     0.105\n",
              "...                 ...          ...          ...  ...      ...       ...       ...\n",
              "2020-06-23  1750.000000  1763.750000  1716.099976  ...    0.787     0.072     0.141\n",
              "2020-06-24  1735.900024  1772.699951  1711.699951  ...    0.811     0.074     0.115\n",
              "2020-06-25  1727.000000  1749.000000  1713.050049  ...    0.820     0.054     0.126\n",
              "2020-06-26  1728.800049  1752.000000  1717.000000  ...    0.766     0.085     0.149\n",
              "2020-06-29  1728.050049  1739.750000  1715.550049  ...    0.804     0.078     0.119\n",
              "\n",
              "[4783 rows x 11 columns]"
            ]
          },
          "metadata": {
            "tags": []
          },
          "execution_count": 32
        }
      ]
    },
    {
      "cell_type": "code",
      "metadata": {
        "id": "A9rzq5-mqfW9"
      },
      "source": [
        "data.to_csv('data.csv')"
      ],
      "execution_count": null,
      "outputs": []
    },
    {
      "cell_type": "code",
      "metadata": {
        "colab": {
          "base_uri": "https://localhost:8080/",
          "height": 326
        },
        "id": "LgvajyO8u51H",
        "outputId": "bee6e93e-661d-4bef-da28-a17804d21ef4"
      },
      "source": [
        "data = pd.read_csv('data.csv', index_col = False)\r\n",
        "\r\n",
        "data.rename(columns={'Unnamed: 0':'Date'}, inplace = True)\r\n",
        "\r\n",
        "data.set_index('Date', inplace=True)\r\n",
        "\r\n",
        "data.head()"
      ],
      "execution_count": null,
      "outputs": [
        {
          "output_type": "execute_result",
          "data": {
            "text/html": [
              "<div>\n",
              "<style scoped>\n",
              "    .dataframe tbody tr th:only-of-type {\n",
              "        vertical-align: middle;\n",
              "    }\n",
              "\n",
              "    .dataframe tbody tr th {\n",
              "        vertical-align: top;\n",
              "    }\n",
              "\n",
              "    .dataframe thead th {\n",
              "        text-align: right;\n",
              "    }\n",
              "</style>\n",
              "<table border=\"1\" class=\"dataframe\">\n",
              "  <thead>\n",
              "    <tr style=\"text-align: right;\">\n",
              "      <th></th>\n",
              "      <th>Open</th>\n",
              "      <th>High</th>\n",
              "      <th>Low</th>\n",
              "      <th>Close</th>\n",
              "      <th>Adj Close</th>\n",
              "      <th>Volume</th>\n",
              "      <th>headline_text</th>\n",
              "      <th>compound</th>\n",
              "      <th>neutral</th>\n",
              "      <th>positive</th>\n",
              "      <th>negative</th>\n",
              "    </tr>\n",
              "    <tr>\n",
              "      <th>Date</th>\n",
              "      <th></th>\n",
              "      <th></th>\n",
              "      <th></th>\n",
              "      <th></th>\n",
              "      <th></th>\n",
              "      <th></th>\n",
              "      <th></th>\n",
              "      <th></th>\n",
              "      <th></th>\n",
              "      <th></th>\n",
              "      <th></th>\n",
              "    </tr>\n",
              "  </thead>\n",
              "  <tbody>\n",
              "    <tr>\n",
              "      <th>2001-01-01</th>\n",
              "      <td>53.105499</td>\n",
              "      <td>53.675701</td>\n",
              "      <td>52.949402</td>\n",
              "      <td>53.378899</td>\n",
              "      <td>24.208828</td>\n",
              "      <td>19259768.0</td>\n",
              "      <td>win over cena satisfying but defeating underta...</td>\n",
              "      <td>-0.0000</td>\n",
              "      <td>0.473</td>\n",
              "      <td>0.297</td>\n",
              "      <td>0.230</td>\n",
              "    </tr>\n",
              "    <tr>\n",
              "      <th>2001-01-02</th>\n",
              "      <td>53.160198</td>\n",
              "      <td>56.073200</td>\n",
              "      <td>53.144600</td>\n",
              "      <td>55.339100</td>\n",
              "      <td>25.097834</td>\n",
              "      <td>42408935.0</td>\n",
              "      <td>Status quo will not be disturbed at Ayodhya; s...</td>\n",
              "      <td>-0.9621</td>\n",
              "      <td>0.817</td>\n",
              "      <td>0.064</td>\n",
              "      <td>0.119</td>\n",
              "    </tr>\n",
              "    <tr>\n",
              "      <th>2001-01-03</th>\n",
              "      <td>55.448399</td>\n",
              "      <td>56.494900</td>\n",
              "      <td>55.136101</td>\n",
              "      <td>56.237202</td>\n",
              "      <td>25.505148</td>\n",
              "      <td>56622894.0</td>\n",
              "      <td>Powerless north India gropes in the dark,Think...</td>\n",
              "      <td>0.6322</td>\n",
              "      <td>0.817</td>\n",
              "      <td>0.098</td>\n",
              "      <td>0.084</td>\n",
              "    </tr>\n",
              "    <tr>\n",
              "      <th>2001-01-04</th>\n",
              "      <td>56.088799</td>\n",
              "      <td>57.307098</td>\n",
              "      <td>55.635899</td>\n",
              "      <td>55.885799</td>\n",
              "      <td>25.345785</td>\n",
              "      <td>38303310.0</td>\n",
              "      <td>The string that pulled Stephen Hawking to Indi...</td>\n",
              "      <td>0.6648</td>\n",
              "      <td>0.843</td>\n",
              "      <td>0.080</td>\n",
              "      <td>0.077</td>\n",
              "    </tr>\n",
              "    <tr>\n",
              "      <th>2001-01-05</th>\n",
              "      <td>55.682701</td>\n",
              "      <td>57.291500</td>\n",
              "      <td>55.682701</td>\n",
              "      <td>56.901001</td>\n",
              "      <td>25.806200</td>\n",
              "      <td>47762434.0</td>\n",
              "      <td>Light combat craft takes India into club class...</td>\n",
              "      <td>0.9032</td>\n",
              "      <td>0.746</td>\n",
              "      <td>0.149</td>\n",
              "      <td>0.105</td>\n",
              "    </tr>\n",
              "  </tbody>\n",
              "</table>\n",
              "</div>"
            ],
            "text/plain": [
              "                 Open       High        Low  ...  neutral  positive  negative\n",
              "Date                                         ...                             \n",
              "2001-01-01  53.105499  53.675701  52.949402  ...    0.473     0.297     0.230\n",
              "2001-01-02  53.160198  56.073200  53.144600  ...    0.817     0.064     0.119\n",
              "2001-01-03  55.448399  56.494900  55.136101  ...    0.817     0.098     0.084\n",
              "2001-01-04  56.088799  57.307098  55.635899  ...    0.843     0.080     0.077\n",
              "2001-01-05  55.682701  57.291500  55.682701  ...    0.746     0.149     0.105\n",
              "\n",
              "[5 rows x 11 columns]"
            ]
          },
          "metadata": {
            "tags": []
          },
          "execution_count": 62
        }
      ]
    },
    {
      "cell_type": "code",
      "metadata": {
        "id": "jOhq4RSVv4ai"
      },
      "source": [
        "# data.to_csv('stock_data.csv')"
      ],
      "execution_count": null,
      "outputs": []
    },
    {
      "cell_type": "code",
      "metadata": {
        "colab": {
          "base_uri": "https://localhost:8080/",
          "height": 606
        },
        "id": "rlqH73ifwG2s",
        "outputId": "8dd53e96-91ac-4815-e6e0-d48121ba2afe"
      },
      "source": [
        "plt.figure(figsize=(20,10))\r\n",
        "data['Close'].plot()\r\n",
        "plt.title('Close Price')\r\n",
        "plt.xlabel('Date')\r\n",
        "plt.ylabel('Stock Price in Rupees')"
      ],
      "execution_count": null,
      "outputs": [
        {
          "output_type": "execute_result",
          "data": {
            "text/plain": [
              "Text(0, 0.5, 'Stock Price in Rupees')"
            ]
          },
          "metadata": {
            "tags": []
          },
          "execution_count": 64
        },
        {
          "output_type": "display_data",
          "data": {
            "image/png": "[encoded data removed]",
            "text/plain": [
              "<Figure size 1440x720 with 1 Axes>"
            ]
          },
          "metadata": {
            "tags": [],
            "needs_background": "light"
          }
        }
      ]
    },
    {
      "cell_type": "code",
      "metadata": {
        "id": "o39sTcONwjDd"
      },
      "source": [
        "data.drop(columns=['headline_text'],inplace=True)"
      ],
      "execution_count": null,
      "outputs": []
    },
    {
      "cell_type": "code",
      "metadata": {
        "colab": {
          "base_uri": "https://localhost:8080/",
          "height": 373
        },
        "id": "qL92WGArxA_8",
        "outputId": "7490434c-3c58-45d7-a84d-d2807d16e16b"
      },
      "source": [
        "data.head(10)"
      ],
      "execution_count": null,
      "outputs": [
        {
          "output_type": "execute_result",
          "data": {
            "text/html": [
              "<div>\n",
              "<style scoped>\n",
              "    .dataframe tbody tr th:only-of-type {\n",
              "        vertical-align: middle;\n",
              "    }\n",
              "\n",
              "    .dataframe tbody tr th {\n",
              "        vertical-align: top;\n",
              "    }\n",
              "\n",
              "    .dataframe thead th {\n",
              "        text-align: right;\n",
              "    }\n",
              "</style>\n",
              "<table border=\"1\" class=\"dataframe\">\n",
              "  <thead>\n",
              "    <tr style=\"text-align: right;\">\n",
              "      <th></th>\n",
              "      <th>Open</th>\n",
              "      <th>High</th>\n",
              "      <th>Low</th>\n",
              "      <th>Close</th>\n",
              "      <th>Adj Close</th>\n",
              "      <th>Volume</th>\n",
              "      <th>compound</th>\n",
              "      <th>neutral</th>\n",
              "      <th>positive</th>\n",
              "      <th>negative</th>\n",
              "    </tr>\n",
              "    <tr>\n",
              "      <th>Date</th>\n",
              "      <th></th>\n",
              "      <th></th>\n",
              "      <th></th>\n",
              "      <th></th>\n",
              "      <th></th>\n",
              "      <th></th>\n",
              "      <th></th>\n",
              "      <th></th>\n",
              "      <th></th>\n",
              "      <th></th>\n",
              "    </tr>\n",
              "  </thead>\n",
              "  <tbody>\n",
              "    <tr>\n",
              "      <th>2001-01-01</th>\n",
              "      <td>53.105499</td>\n",
              "      <td>53.675701</td>\n",
              "      <td>52.949402</td>\n",
              "      <td>53.378899</td>\n",
              "      <td>24.208828</td>\n",
              "      <td>19259768.0</td>\n",
              "      <td>-0.0000</td>\n",
              "      <td>0.473</td>\n",
              "      <td>0.297</td>\n",
              "      <td>0.230</td>\n",
              "    </tr>\n",
              "    <tr>\n",
              "      <th>2001-01-02</th>\n",
              "      <td>53.160198</td>\n",
              "      <td>56.073200</td>\n",
              "      <td>53.144600</td>\n",
              "      <td>55.339100</td>\n",
              "      <td>25.097834</td>\n",
              "      <td>42408935.0</td>\n",
              "      <td>-0.9621</td>\n",
              "      <td>0.817</td>\n",
              "      <td>0.064</td>\n",
              "      <td>0.119</td>\n",
              "    </tr>\n",
              "    <tr>\n",
              "      <th>2001-01-03</th>\n",
              "      <td>55.448399</td>\n",
              "      <td>56.494900</td>\n",
              "      <td>55.136101</td>\n",
              "      <td>56.237202</td>\n",
              "      <td>25.505148</td>\n",
              "      <td>56622894.0</td>\n",
              "      <td>0.6322</td>\n",
              "      <td>0.817</td>\n",
              "      <td>0.098</td>\n",
              "      <td>0.084</td>\n",
              "    </tr>\n",
              "    <tr>\n",
              "      <th>2001-01-04</th>\n",
              "      <td>56.088799</td>\n",
              "      <td>57.307098</td>\n",
              "      <td>55.635899</td>\n",
              "      <td>55.885799</td>\n",
              "      <td>25.345785</td>\n",
              "      <td>38303310.0</td>\n",
              "      <td>0.6648</td>\n",
              "      <td>0.843</td>\n",
              "      <td>0.080</td>\n",
              "      <td>0.077</td>\n",
              "    </tr>\n",
              "    <tr>\n",
              "      <th>2001-01-05</th>\n",
              "      <td>55.682701</td>\n",
              "      <td>57.291500</td>\n",
              "      <td>55.682701</td>\n",
              "      <td>56.901001</td>\n",
              "      <td>25.806200</td>\n",
              "      <td>47762434.0</td>\n",
              "      <td>0.9032</td>\n",
              "      <td>0.746</td>\n",
              "      <td>0.149</td>\n",
              "      <td>0.105</td>\n",
              "    </tr>\n",
              "    <tr>\n",
              "      <th>2001-01-08</th>\n",
              "      <td>56.619900</td>\n",
              "      <td>57.393002</td>\n",
              "      <td>55.799900</td>\n",
              "      <td>56.260601</td>\n",
              "      <td>25.515766</td>\n",
              "      <td>43809518.0</td>\n",
              "      <td>-0.9638</td>\n",
              "      <td>0.855</td>\n",
              "      <td>0.026</td>\n",
              "      <td>0.119</td>\n",
              "    </tr>\n",
              "    <tr>\n",
              "      <th>2001-01-09</th>\n",
              "      <td>56.135700</td>\n",
              "      <td>56.510601</td>\n",
              "      <td>55.776501</td>\n",
              "      <td>55.909199</td>\n",
              "      <td>25.356398</td>\n",
              "      <td>28898145.0</td>\n",
              "      <td>-0.9559</td>\n",
              "      <td>0.822</td>\n",
              "      <td>0.056</td>\n",
              "      <td>0.121</td>\n",
              "    </tr>\n",
              "    <tr>\n",
              "      <th>2001-01-10</th>\n",
              "      <td>56.002899</td>\n",
              "      <td>56.455898</td>\n",
              "      <td>54.534698</td>\n",
              "      <td>54.932999</td>\n",
              "      <td>24.913660</td>\n",
              "      <td>30288075.0</td>\n",
              "      <td>-0.5719</td>\n",
              "      <td>0.773</td>\n",
              "      <td>0.000</td>\n",
              "      <td>0.227</td>\n",
              "    </tr>\n",
              "    <tr>\n",
              "      <th>2001-01-11</th>\n",
              "      <td>55.057999</td>\n",
              "      <td>55.807701</td>\n",
              "      <td>54.823700</td>\n",
              "      <td>55.573399</td>\n",
              "      <td>25.204098</td>\n",
              "      <td>26062495.0</td>\n",
              "      <td>0.0000</td>\n",
              "      <td>0.816</td>\n",
              "      <td>0.092</td>\n",
              "      <td>0.092</td>\n",
              "    </tr>\n",
              "    <tr>\n",
              "      <th>2001-01-23</th>\n",
              "      <td>58.533199</td>\n",
              "      <td>60.017101</td>\n",
              "      <td>58.533199</td>\n",
              "      <td>59.611000</td>\n",
              "      <td>27.035267</td>\n",
              "      <td>52973026.0</td>\n",
              "      <td>0.9295</td>\n",
              "      <td>0.874</td>\n",
              "      <td>0.090</td>\n",
              "      <td>0.036</td>\n",
              "    </tr>\n",
              "  </tbody>\n",
              "</table>\n",
              "</div>"
            ],
            "text/plain": [
              "                 Open       High        Low  ...  neutral  positive  negative\n",
              "Date                                         ...                             \n",
              "2001-01-01  53.105499  53.675701  52.949402  ...    0.473     0.297     0.230\n",
              "2001-01-02  53.160198  56.073200  53.144600  ...    0.817     0.064     0.119\n",
              "2001-01-03  55.448399  56.494900  55.136101  ...    0.817     0.098     0.084\n",
              "2001-01-04  56.088799  57.307098  55.635899  ...    0.843     0.080     0.077\n",
              "2001-01-05  55.682701  57.291500  55.682701  ...    0.746     0.149     0.105\n",
              "2001-01-08  56.619900  57.393002  55.799900  ...    0.855     0.026     0.119\n",
              "2001-01-09  56.135700  56.510601  55.776501  ...    0.822     0.056     0.121\n",
              "2001-01-10  56.002899  56.455898  54.534698  ...    0.773     0.000     0.227\n",
              "2001-01-11  55.057999  55.807701  54.823700  ...    0.816     0.092     0.092\n",
              "2001-01-23  58.533199  60.017101  58.533199  ...    0.874     0.090     0.036\n",
              "\n",
              "[10 rows x 10 columns]"
            ]
          },
          "metadata": {
            "tags": []
          },
          "execution_count": 66
        }
      ]
    },
    {
      "cell_type": "code",
      "metadata": {
        "id": "9LNOAjFkxCkz"
      },
      "source": [
        "close_price_shifted = data['Close'].shift(-1) \r\n",
        " \r\n",
        "compound_shifted = data['compound'].shift(-1) \r\n",
        "\r\n",
        "data = pd.concat([data, close_price_shifted, compound_shifted], axis=1)"
      ],
      "execution_count": null,
      "outputs": []
    },
    {
      "cell_type": "code",
      "metadata": {
        "id": "iBNa5IOkyBym"
      },
      "source": [
        "data.columns=['open','high','low','close','adj-close','volume','compund','neutral','positive','negative','close-rolled','compound-rolled']"
      ],
      "execution_count": null,
      "outputs": []
    },
    {
      "cell_type": "code",
      "metadata": {
        "colab": {
          "base_uri": "https://localhost:8080/",
          "height": 616
        },
        "id": "FQ_jhbUmymWV",
        "outputId": "bd278878-5abf-4022-c8b8-cf82b2ed20b2"
      },
      "source": [
        "data"
      ],
      "execution_count": null,
      "outputs": [
        {
          "output_type": "execute_result",
          "data": {
            "text/html": [
              "<div>\n",
              "<style scoped>\n",
              "    .dataframe tbody tr th:only-of-type {\n",
              "        vertical-align: middle;\n",
              "    }\n",
              "\n",
              "    .dataframe tbody tr th {\n",
              "        vertical-align: top;\n",
              "    }\n",
              "\n",
              "    .dataframe thead th {\n",
              "        text-align: right;\n",
              "    }\n",
              "</style>\n",
              "<table border=\"1\" class=\"dataframe\">\n",
              "  <thead>\n",
              "    <tr style=\"text-align: right;\">\n",
              "      <th></th>\n",
              "      <th>open</th>\n",
              "      <th>high</th>\n",
              "      <th>low</th>\n",
              "      <th>close</th>\n",
              "      <th>adj-close</th>\n",
              "      <th>volume</th>\n",
              "      <th>compund</th>\n",
              "      <th>neutral</th>\n",
              "      <th>positive</th>\n",
              "      <th>negative</th>\n",
              "      <th>close-rolled</th>\n",
              "      <th>compound-rolled</th>\n",
              "    </tr>\n",
              "    <tr>\n",
              "      <th>Date</th>\n",
              "      <th></th>\n",
              "      <th></th>\n",
              "      <th></th>\n",
              "      <th></th>\n",
              "      <th></th>\n",
              "      <th></th>\n",
              "      <th></th>\n",
              "      <th></th>\n",
              "      <th></th>\n",
              "      <th></th>\n",
              "      <th></th>\n",
              "      <th></th>\n",
              "    </tr>\n",
              "  </thead>\n",
              "  <tbody>\n",
              "    <tr>\n",
              "      <th>2001-01-01</th>\n",
              "      <td>53.105499</td>\n",
              "      <td>53.675701</td>\n",
              "      <td>52.949402</td>\n",
              "      <td>53.378899</td>\n",
              "      <td>24.208828</td>\n",
              "      <td>19259768.0</td>\n",
              "      <td>-0.0000</td>\n",
              "      <td>0.473</td>\n",
              "      <td>0.297</td>\n",
              "      <td>0.230</td>\n",
              "      <td>55.339100</td>\n",
              "      <td>-0.9621</td>\n",
              "    </tr>\n",
              "    <tr>\n",
              "      <th>2001-01-02</th>\n",
              "      <td>53.160198</td>\n",
              "      <td>56.073200</td>\n",
              "      <td>53.144600</td>\n",
              "      <td>55.339100</td>\n",
              "      <td>25.097834</td>\n",
              "      <td>42408935.0</td>\n",
              "      <td>-0.9621</td>\n",
              "      <td>0.817</td>\n",
              "      <td>0.064</td>\n",
              "      <td>0.119</td>\n",
              "      <td>56.237202</td>\n",
              "      <td>0.6322</td>\n",
              "    </tr>\n",
              "    <tr>\n",
              "      <th>2001-01-03</th>\n",
              "      <td>55.448399</td>\n",
              "      <td>56.494900</td>\n",
              "      <td>55.136101</td>\n",
              "      <td>56.237202</td>\n",
              "      <td>25.505148</td>\n",
              "      <td>56622894.0</td>\n",
              "      <td>0.6322</td>\n",
              "      <td>0.817</td>\n",
              "      <td>0.098</td>\n",
              "      <td>0.084</td>\n",
              "      <td>55.885799</td>\n",
              "      <td>0.6648</td>\n",
              "    </tr>\n",
              "    <tr>\n",
              "      <th>2001-01-04</th>\n",
              "      <td>56.088799</td>\n",
              "      <td>57.307098</td>\n",
              "      <td>55.635899</td>\n",
              "      <td>55.885799</td>\n",
              "      <td>25.345785</td>\n",
              "      <td>38303310.0</td>\n",
              "      <td>0.6648</td>\n",
              "      <td>0.843</td>\n",
              "      <td>0.080</td>\n",
              "      <td>0.077</td>\n",
              "      <td>56.901001</td>\n",
              "      <td>0.9032</td>\n",
              "    </tr>\n",
              "    <tr>\n",
              "      <th>2001-01-05</th>\n",
              "      <td>55.682701</td>\n",
              "      <td>57.291500</td>\n",
              "      <td>55.682701</td>\n",
              "      <td>56.901001</td>\n",
              "      <td>25.806200</td>\n",
              "      <td>47762434.0</td>\n",
              "      <td>0.9032</td>\n",
              "      <td>0.746</td>\n",
              "      <td>0.149</td>\n",
              "      <td>0.105</td>\n",
              "      <td>56.260601</td>\n",
              "      <td>-0.9638</td>\n",
              "    </tr>\n",
              "    <tr>\n",
              "      <th>...</th>\n",
              "      <td>...</td>\n",
              "      <td>...</td>\n",
              "      <td>...</td>\n",
              "      <td>...</td>\n",
              "      <td>...</td>\n",
              "      <td>...</td>\n",
              "      <td>...</td>\n",
              "      <td>...</td>\n",
              "      <td>...</td>\n",
              "      <td>...</td>\n",
              "      <td>...</td>\n",
              "      <td>...</td>\n",
              "    </tr>\n",
              "    <tr>\n",
              "      <th>2020-06-23</th>\n",
              "      <td>1750.000000</td>\n",
              "      <td>1763.750000</td>\n",
              "      <td>1716.099976</td>\n",
              "      <td>1720.900024</td>\n",
              "      <td>1714.462524</td>\n",
              "      <td>17519493.0</td>\n",
              "      <td>-0.9999</td>\n",
              "      <td>0.787</td>\n",
              "      <td>0.072</td>\n",
              "      <td>0.141</td>\n",
              "      <td>1727.849976</td>\n",
              "      <td>-0.9997</td>\n",
              "    </tr>\n",
              "    <tr>\n",
              "      <th>2020-06-24</th>\n",
              "      <td>1735.900024</td>\n",
              "      <td>1772.699951</td>\n",
              "      <td>1711.699951</td>\n",
              "      <td>1727.849976</td>\n",
              "      <td>1721.386475</td>\n",
              "      <td>23807033.0</td>\n",
              "      <td>-0.9997</td>\n",
              "      <td>0.811</td>\n",
              "      <td>0.074</td>\n",
              "      <td>0.115</td>\n",
              "      <td>1717.900024</td>\n",
              "      <td>-0.9999</td>\n",
              "    </tr>\n",
              "    <tr>\n",
              "      <th>2020-06-25</th>\n",
              "      <td>1727.000000</td>\n",
              "      <td>1749.000000</td>\n",
              "      <td>1713.050049</td>\n",
              "      <td>1717.900024</td>\n",
              "      <td>1711.473755</td>\n",
              "      <td>18312025.0</td>\n",
              "      <td>-0.9999</td>\n",
              "      <td>0.820</td>\n",
              "      <td>0.054</td>\n",
              "      <td>0.126</td>\n",
              "      <td>1741.650024</td>\n",
              "      <td>-0.9999</td>\n",
              "    </tr>\n",
              "    <tr>\n",
              "      <th>2020-06-26</th>\n",
              "      <td>1728.800049</td>\n",
              "      <td>1752.000000</td>\n",
              "      <td>1717.000000</td>\n",
              "      <td>1741.650024</td>\n",
              "      <td>1735.134888</td>\n",
              "      <td>14270458.0</td>\n",
              "      <td>-0.9999</td>\n",
              "      <td>0.766</td>\n",
              "      <td>0.085</td>\n",
              "      <td>0.149</td>\n",
              "      <td>1723.150024</td>\n",
              "      <td>-0.9997</td>\n",
              "    </tr>\n",
              "    <tr>\n",
              "      <th>2020-06-29</th>\n",
              "      <td>1728.050049</td>\n",
              "      <td>1739.750000</td>\n",
              "      <td>1715.550049</td>\n",
              "      <td>1723.150024</td>\n",
              "      <td>1716.704102</td>\n",
              "      <td>11824524.0</td>\n",
              "      <td>-0.9997</td>\n",
              "      <td>0.804</td>\n",
              "      <td>0.078</td>\n",
              "      <td>0.119</td>\n",
              "      <td>NaN</td>\n",
              "      <td>NaN</td>\n",
              "    </tr>\n",
              "  </tbody>\n",
              "</table>\n",
              "<p>4783 rows × 12 columns</p>\n",
              "</div>"
            ],
            "text/plain": [
              "                   open         high  ...  close-rolled  compound-rolled\n",
              "Date                                  ...                               \n",
              "2001-01-01    53.105499    53.675701  ...     55.339100          -0.9621\n",
              "2001-01-02    53.160198    56.073200  ...     56.237202           0.6322\n",
              "2001-01-03    55.448399    56.494900  ...     55.885799           0.6648\n",
              "2001-01-04    56.088799    57.307098  ...     56.901001           0.9032\n",
              "2001-01-05    55.682701    57.291500  ...     56.260601          -0.9638\n",
              "...                 ...          ...  ...           ...              ...\n",
              "2020-06-23  1750.000000  1763.750000  ...   1727.849976          -0.9997\n",
              "2020-06-24  1735.900024  1772.699951  ...   1717.900024          -0.9999\n",
              "2020-06-25  1727.000000  1749.000000  ...   1741.650024          -0.9999\n",
              "2020-06-26  1728.800049  1752.000000  ...   1723.150024          -0.9997\n",
              "2020-06-29  1728.050049  1739.750000  ...           NaN              NaN\n",
              "\n",
              "[4783 rows x 12 columns]"
            ]
          },
          "metadata": {
            "tags": []
          },
          "execution_count": 69
        }
      ]
    },
    {
      "cell_type": "code",
      "metadata": {
        "id": "swu1hkEfyndS"
      },
      "source": [
        "data.dropna(inplace=True)"
      ],
      "execution_count": null,
      "outputs": []
    },
    {
      "cell_type": "code",
      "metadata": {
        "colab": {
          "base_uri": "https://localhost:8080/"
        },
        "id": "r7zFcHmpyvAh",
        "outputId": "057219fe-44aa-47a7-da52-e64c92b78cb3"
      },
      "source": [
        "data.isna().sum()"
      ],
      "execution_count": null,
      "outputs": [
        {
          "output_type": "execute_result",
          "data": {
            "text/plain": [
              "open               0\n",
              "high               0\n",
              "low                0\n",
              "close              0\n",
              "adj-close          0\n",
              "volume             0\n",
              "compund            0\n",
              "neutral            0\n",
              "positive           0\n",
              "negative           0\n",
              "close-rolled       0\n",
              "compound-rolled    0\n",
              "dtype: int64"
            ]
          },
          "metadata": {
            "tags": []
          },
          "execution_count": 71
        }
      ]
    },
    {
      "cell_type": "code",
      "metadata": {
        "id": "1T5bIFSVyybU"
      },
      "source": [
        "x = data.drop(columns=['close-rolled','adj-close','neutral','positive','negative'])"
      ],
      "execution_count": null,
      "outputs": []
    },
    {
      "cell_type": "code",
      "metadata": {
        "id": "varFjRELzAeA"
      },
      "source": [
        "y = data['close-rolled']"
      ],
      "execution_count": null,
      "outputs": []
    },
    {
      "cell_type": "code",
      "metadata": {
        "colab": {
          "base_uri": "https://localhost:8080/"
        },
        "id": "dLKVVS9SzCu8",
        "outputId": "30f94637-3a58-4c9c-d669-d97c97877cef"
      },
      "source": [
        "print(y)"
      ],
      "execution_count": null,
      "outputs": [
        {
          "output_type": "stream",
          "text": [
            "Date\n",
            "2001-01-01      55.339100\n",
            "2001-01-02      56.237202\n",
            "2001-01-03      55.885799\n",
            "2001-01-04      56.901001\n",
            "2001-01-05      56.260601\n",
            "                 ...     \n",
            "2020-06-22    1720.900024\n",
            "2020-06-23    1727.849976\n",
            "2020-06-24    1717.900024\n",
            "2020-06-25    1741.650024\n",
            "2020-06-26    1723.150024\n",
            "Name: close-rolled, Length: 4782, dtype: float64\n"
          ],
          "name": "stdout"
        }
      ]
    },
    {
      "cell_type": "code",
      "metadata": {
        "colab": {
          "base_uri": "https://localhost:8080/"
        },
        "id": "s909AbJ3zHWT",
        "outputId": "f9e972c3-292e-405c-c9d5-ce64fbe39bb1"
      },
      "source": [
        "cols = ['open','high','low','close','volume','compound','compound-rolled']\r\n",
        "scaler_x = preprocessing.MinMaxScaler (feature_range=(-1, 1))\r\n",
        "x = np.array(x).reshape((len(x) ,len(cols)))\r\n",
        "x = scaler_x.fit_transform(x)\r\n",
        "\r\n",
        "# scaling the target variable\r\n",
        "scaler_y = preprocessing.MinMaxScaler (feature_range=(-1, 1))\r\n",
        "y = np.array (y).reshape ((len( y), 1))\r\n",
        "y = scaler_y.fit_transform (y)\r\n",
        "\r\n",
        "# displaying the scaled feature dataset and the target variable\r\n",
        "x, y"
      ],
      "execution_count": null,
      "outputs": [
        {
          "output_type": "execute_result",
          "data": {
            "text/plain": [
              "(array([[-0.97665125, -0.97897846, -0.97516603, ..., -0.86674278,\n",
              "          0.        , -0.9621    ],\n",
              "        [-0.97658839, -0.97626807, -0.97493681, ..., -0.70657504,\n",
              "         -0.9621    ,  0.6322    ],\n",
              "        [-0.97395921, -0.97579134, -0.97259827, ..., -0.60822948,\n",
              "          0.6322    ,  0.6648    ],\n",
              "        ...,\n",
              "        [ 0.95691178,  0.96438906,  0.97263967, ..., -0.83528052,\n",
              "         -0.9997    , -0.9999    ],\n",
              "        [ 0.94668549,  0.93759611,  0.97422503, ..., -0.87330016,\n",
              "         -0.9999    , -0.9999    ],\n",
              "        [ 0.94875378,  0.94098763,  0.97886331, ..., -0.90126353,\n",
              "         -0.9999    , -0.9997    ]]), array([[-0.97328552],\n",
              "        [-0.97224553],\n",
              "        [-0.97265245],\n",
              "        ...,\n",
              "        [ 0.95194341],\n",
              "        [ 0.97944568],\n",
              "        [ 0.95802286]]))"
            ]
          },
          "metadata": {
            "tags": []
          },
          "execution_count": 170
        }
      ]
    },
    {
      "cell_type": "code",
      "metadata": {
        "colab": {
          "base_uri": "https://localhost:8080/"
        },
        "id": "hZwS5lH-Flgd",
        "outputId": "cd52d887-6448-4fc5-9d3b-1f0908e90041"
      },
      "source": [
        "y[1]"
      ],
      "execution_count": null,
      "outputs": [
        {
          "output_type": "execute_result",
          "data": {
            "text/plain": [
              "array([-0.97224553])"
            ]
          },
          "metadata": {
            "tags": []
          },
          "execution_count": 189
        }
      ]
    },
    {
      "cell_type": "code",
      "metadata": {
        "colab": {
          "base_uri": "https://localhost:8080/"
        },
        "id": "FtTSE9MEzseL",
        "outputId": "c3836171-7749-4edc-fcae-e78d981cc6df"
      },
      "source": [
        "percentage_of_data = 1.0\r\n",
        "data_to_use = int(percentage_of_data*(len(data)-1))\r\n",
        "\r\n",
        "# using 80% of data for training\r\n",
        "train_end = int(data_to_use*0.8)\r\n",
        "total_data = len(data)\r\n",
        "start = total_data - data_to_use\r\n",
        "\r\n",
        "X_train = x[0 : train_end,]\r\n",
        "X_test = x[train_end+1 : len(x),]    \r\n",
        "y_train = y[0 : train_end] \r\n",
        "y_test = y[train_end+1 : len(y)]  \r\n",
        "\r\n",
        "# printing the shape of the training and the test datasets\r\n",
        "print('Number of rows and columns in the Training set X:', X_train.shape, 'and y:', y_train.shape)\r\n",
        "print('Number of rows and columns in the Test set X:', X_test.shape, 'and y:', y_test.shape)"
      ],
      "execution_count": null,
      "outputs": [
        {
          "output_type": "stream",
          "text": [
            "Number of rows and columns in the Training set X: (3824, 7) and y: (3824, 1)\n",
            "Number of rows and columns in the Test set X: (957, 7) and y: (957, 1)\n"
          ],
          "name": "stdout"
        }
      ]
    },
    {
      "cell_type": "code",
      "metadata": {
        "colab": {
          "base_uri": "https://localhost:8080/"
        },
        "id": "vkIBUyuHz8YY",
        "outputId": "e875a1e0-f763-46ec-e517-ac4f3e8950a6"
      },
      "source": [
        "X_train = X_train.reshape (X_train.shape + (1,)) \r\n",
        "X_test = X_test.reshape(X_test.shape + (1,))\r\n",
        "\r\n",
        "# printing the re-shaped feature dataset\r\n",
        "print('Shape of Training set X:', X_train.shape)\r\n",
        "print('Shape of Test set X:', X_test.shape)"
      ],
      "execution_count": null,
      "outputs": [
        {
          "output_type": "stream",
          "text": [
            "Shape of Training set X: (3824, 7, 1)\n",
            "Shape of Test set X: (957, 7, 1)\n"
          ],
          "name": "stdout"
        }
      ]
    },
    {
      "cell_type": "code",
      "metadata": {
        "colab": {
          "base_uri": "https://localhost:8080/"
        },
        "id": "431IlIFDz-9q",
        "outputId": "ac6a8b15-d393-40f3-b8a3-1464226689ac"
      },
      "source": [
        "np.random.seed(2016)\r\n",
        "\r\n",
        "# setting the model architecture\r\n",
        "model=Sequential()\r\n",
        "model.add(LSTM(100,return_sequences=True,activation='tanh',input_shape=(len(cols),1)))\r\n",
        "model.add(Dropout(0.1))\r\n",
        "model.add(LSTM(100,return_sequences=True,activation='tanh'))\r\n",
        "model.add(Dropout(0.1))\r\n",
        "model.add(LSTM(100,activation='tanh'))\r\n",
        "model.add(Dropout(0.1))\r\n",
        "model.add(Dense(1))\r\n",
        "\r\n",
        "model.summary()"
      ],
      "execution_count": null,
      "outputs": [
        {
          "output_type": "stream",
          "text": [
            "Model: \"sequential_19\"\n",
            "_________________________________________________________________\n",
            "Layer (type)                 Output Shape              Param #   \n",
            "=================================================================\n",
            "lstm_48 (LSTM)               (None, 7, 100)            40800     \n",
            "_________________________________________________________________\n",
            "dropout_48 (Dropout)         (None, 7, 100)            0         \n",
            "_________________________________________________________________\n",
            "lstm_49 (LSTM)               (None, 7, 100)            80400     \n",
            "_________________________________________________________________\n",
            "dropout_49 (Dropout)         (None, 7, 100)            0         \n",
            "_________________________________________________________________\n",
            "lstm_50 (LSTM)               (None, 100)               80400     \n",
            "_________________________________________________________________\n",
            "dropout_50 (Dropout)         (None, 100)               0         \n",
            "_________________________________________________________________\n",
            "dense_12 (Dense)             (None, 1)                 101       \n",
            "=================================================================\n",
            "Total params: 201,701\n",
            "Trainable params: 201,701\n",
            "Non-trainable params: 0\n",
            "_________________________________________________________________\n"
          ],
          "name": "stdout"
        }
      ]
    },
    {
      "cell_type": "code",
      "metadata": {
        "colab": {
          "base_uri": "https://localhost:8080/"
        },
        "id": "YO2eONnj0BjC",
        "outputId": "910322be-5e55-4186-bdf5-2c1431f3501a"
      },
      "source": [
        "model.compile(loss='mse' , optimizer='adam')\r\n",
        "\r\n",
        "# fitting the model using the training dataset\r\n",
        "model.fit(X_train, y_train, validation_split=0.2, epochs=100, batch_size=32, verbose=1)"
      ],
      "execution_count": null,
      "outputs": [
        {
          "output_type": "stream",
          "text": [
            "Epoch 1/100\n",
            "96/96 [==============================] - 1s 14ms/step - loss: 0.0404 - val_loss: 7.0130e-04\n",
            "Epoch 2/100\n",
            "96/96 [==============================] - 1s 6ms/step - loss: 0.0029 - val_loss: 7.0987e-04\n",
            "Epoch 3/100\n",
            "96/96 [==============================] - 1s 6ms/step - loss: 0.0023 - val_loss: 3.8946e-04\n",
            "Epoch 4/100\n",
            "96/96 [==============================] - 1s 6ms/step - loss: 0.0021 - val_loss: 3.6437e-04\n",
            "Epoch 5/100\n",
            "96/96 [==============================] - 1s 6ms/step - loss: 0.0019 - val_loss: 4.5475e-04\n",
            "Epoch 6/100\n",
            "96/96 [==============================] - 1s 6ms/step - loss: 0.0016 - val_loss: 2.1015e-04\n",
            "Epoch 7/100\n",
            "96/96 [==============================] - 1s 6ms/step - loss: 0.0015 - val_loss: 2.2170e-04\n",
            "Epoch 8/100\n",
            "96/96 [==============================] - 1s 6ms/step - loss: 0.0012 - val_loss: 1.9682e-04\n",
            "Epoch 9/100\n",
            "96/96 [==============================] - 1s 6ms/step - loss: 0.0013 - val_loss: 5.7800e-04\n",
            "Epoch 10/100\n",
            "96/96 [==============================] - 1s 6ms/step - loss: 0.0014 - val_loss: 2.3183e-04\n",
            "Epoch 11/100\n",
            "96/96 [==============================] - 1s 6ms/step - loss: 0.0014 - val_loss: 1.8633e-04\n",
            "Epoch 12/100\n",
            "96/96 [==============================] - 1s 6ms/step - loss: 0.0011 - val_loss: 1.2967e-04\n",
            "Epoch 13/100\n",
            "96/96 [==============================] - 1s 6ms/step - loss: 0.0011 - val_loss: 3.2367e-04\n",
            "Epoch 14/100\n",
            "96/96 [==============================] - 1s 6ms/step - loss: 0.0011 - val_loss: 1.9385e-04\n",
            "Epoch 15/100\n",
            "96/96 [==============================] - 1s 6ms/step - loss: 0.0011 - val_loss: 3.2907e-04\n",
            "Epoch 16/100\n",
            "96/96 [==============================] - 1s 6ms/step - loss: 0.0013 - val_loss: 1.3116e-04\n",
            "Epoch 17/100\n",
            "96/96 [==============================] - 1s 6ms/step - loss: 0.0010 - val_loss: 1.1337e-04\n",
            "Epoch 18/100\n",
            "96/96 [==============================] - 1s 6ms/step - loss: 0.0010 - val_loss: 1.1817e-04\n",
            "Epoch 19/100\n",
            "96/96 [==============================] - 1s 6ms/step - loss: 0.0010 - val_loss: 1.1175e-04\n",
            "Epoch 20/100\n",
            "96/96 [==============================] - 1s 6ms/step - loss: 0.0010 - val_loss: 2.4531e-04\n",
            "Epoch 21/100\n",
            "96/96 [==============================] - 1s 6ms/step - loss: 9.5540e-04 - val_loss: 1.2039e-04\n",
            "Epoch 22/100\n",
            "96/96 [==============================] - 1s 6ms/step - loss: 9.9749e-04 - val_loss: 1.0859e-04\n",
            "Epoch 23/100\n",
            "96/96 [==============================] - 1s 6ms/step - loss: 0.0011 - val_loss: 1.4387e-04\n",
            "Epoch 24/100\n",
            "96/96 [==============================] - 1s 6ms/step - loss: 9.3386e-04 - val_loss: 2.7474e-04\n",
            "Epoch 25/100\n",
            "96/96 [==============================] - 1s 6ms/step - loss: 9.4630e-04 - val_loss: 2.3348e-04\n",
            "Epoch 26/100\n",
            "96/96 [==============================] - 1s 6ms/step - loss: 9.1195e-04 - val_loss: 2.5289e-04\n",
            "Epoch 27/100\n",
            "96/96 [==============================] - 1s 6ms/step - loss: 9.0274e-04 - val_loss: 2.1347e-04\n",
            "Epoch 28/100\n",
            "96/96 [==============================] - 1s 6ms/step - loss: 0.0010 - val_loss: 1.6543e-04\n",
            "Epoch 29/100\n",
            "96/96 [==============================] - 1s 6ms/step - loss: 0.0010 - val_loss: 1.0518e-04\n",
            "Epoch 30/100\n",
            "96/96 [==============================] - 1s 6ms/step - loss: 8.5041e-04 - val_loss: 2.1460e-04\n",
            "Epoch 31/100\n",
            "96/96 [==============================] - 1s 6ms/step - loss: 8.3930e-04 - val_loss: 1.3309e-04\n",
            "Epoch 32/100\n",
            "96/96 [==============================] - 1s 6ms/step - loss: 9.6961e-04 - val_loss: 1.1352e-04\n",
            "Epoch 33/100\n",
            "96/96 [==============================] - 1s 6ms/step - loss: 9.2391e-04 - val_loss: 1.1010e-04\n",
            "Epoch 34/100\n",
            "96/96 [==============================] - 1s 6ms/step - loss: 9.0140e-04 - val_loss: 1.0389e-04\n",
            "Epoch 35/100\n",
            "96/96 [==============================] - 1s 6ms/step - loss: 8.0087e-04 - val_loss: 1.3416e-04\n",
            "Epoch 36/100\n",
            "96/96 [==============================] - 1s 6ms/step - loss: 8.1896e-04 - val_loss: 2.1532e-04\n",
            "Epoch 37/100\n",
            "96/96 [==============================] - 1s 6ms/step - loss: 8.2184e-04 - val_loss: 2.2531e-04\n",
            "Epoch 38/100\n",
            "96/96 [==============================] - 1s 7ms/step - loss: 8.8745e-04 - val_loss: 2.7037e-04\n",
            "Epoch 39/100\n",
            "96/96 [==============================] - 1s 6ms/step - loss: 8.2496e-04 - val_loss: 1.4181e-04\n",
            "Epoch 40/100\n",
            "96/96 [==============================] - 1s 6ms/step - loss: 7.9308e-04 - val_loss: 1.1394e-04\n",
            "Epoch 41/100\n",
            "96/96 [==============================] - 1s 6ms/step - loss: 8.3708e-04 - val_loss: 1.6058e-04\n",
            "Epoch 42/100\n",
            "96/96 [==============================] - 1s 6ms/step - loss: 7.7686e-04 - val_loss: 2.5864e-04\n",
            "Epoch 43/100\n",
            "96/96 [==============================] - 1s 6ms/step - loss: 7.6926e-04 - val_loss: 1.1524e-04\n",
            "Epoch 44/100\n",
            "96/96 [==============================] - 1s 6ms/step - loss: 7.1030e-04 - val_loss: 5.6878e-04\n",
            "Epoch 45/100\n",
            "96/96 [==============================] - 1s 6ms/step - loss: 8.0313e-04 - val_loss: 1.3860e-04\n",
            "Epoch 46/100\n",
            "96/96 [==============================] - 1s 6ms/step - loss: 8.1575e-04 - val_loss: 2.2587e-04\n",
            "Epoch 47/100\n",
            "96/96 [==============================] - 1s 6ms/step - loss: 8.0465e-04 - val_loss: 2.6921e-04\n",
            "Epoch 48/100\n",
            "96/96 [==============================] - 1s 6ms/step - loss: 8.2429e-04 - val_loss: 2.1699e-04\n",
            "Epoch 49/100\n",
            "96/96 [==============================] - 1s 6ms/step - loss: 6.9750e-04 - val_loss: 1.6913e-04\n",
            "Epoch 50/100\n",
            "96/96 [==============================] - 1s 6ms/step - loss: 7.4699e-04 - val_loss: 1.2540e-04\n",
            "Epoch 51/100\n",
            "96/96 [==============================] - 1s 6ms/step - loss: 7.4790e-04 - val_loss: 1.5638e-04\n",
            "Epoch 52/100\n",
            "96/96 [==============================] - 1s 6ms/step - loss: 6.8872e-04 - val_loss: 1.1898e-04\n",
            "Epoch 53/100\n",
            "96/96 [==============================] - 1s 6ms/step - loss: 6.8079e-04 - val_loss: 1.1763e-04\n",
            "Epoch 54/100\n",
            "96/96 [==============================] - 1s 7ms/step - loss: 6.7751e-04 - val_loss: 1.1329e-04\n",
            "Epoch 55/100\n",
            "96/96 [==============================] - 1s 6ms/step - loss: 6.9879e-04 - val_loss: 6.9983e-04\n",
            "Epoch 56/100\n",
            "96/96 [==============================] - 1s 6ms/step - loss: 6.8215e-04 - val_loss: 1.0467e-04\n",
            "Epoch 57/100\n",
            "96/96 [==============================] - 1s 7ms/step - loss: 7.1611e-04 - val_loss: 1.0786e-04\n",
            "Epoch 58/100\n",
            "96/96 [==============================] - 1s 6ms/step - loss: 7.0433e-04 - val_loss: 1.1570e-04\n",
            "Epoch 59/100\n",
            "96/96 [==============================] - 1s 6ms/step - loss: 6.6191e-04 - val_loss: 1.4976e-04\n",
            "Epoch 60/100\n",
            "96/96 [==============================] - 1s 7ms/step - loss: 5.9778e-04 - val_loss: 1.0594e-04\n",
            "Epoch 61/100\n",
            "96/96 [==============================] - 1s 6ms/step - loss: 6.6015e-04 - val_loss: 1.3273e-04\n",
            "Epoch 62/100\n",
            "96/96 [==============================] - 1s 6ms/step - loss: 6.4383e-04 - val_loss: 1.9651e-04\n",
            "Epoch 63/100\n",
            "96/96 [==============================] - 1s 7ms/step - loss: 6.8153e-04 - val_loss: 2.5183e-04\n",
            "Epoch 64/100\n",
            "96/96 [==============================] - 1s 6ms/step - loss: 6.5337e-04 - val_loss: 2.9211e-04\n",
            "Epoch 65/100\n",
            "96/96 [==============================] - 1s 6ms/step - loss: 6.2075e-04 - val_loss: 2.2538e-04\n",
            "Epoch 66/100\n",
            "96/96 [==============================] - 1s 6ms/step - loss: 5.8204e-04 - val_loss: 1.1118e-04\n",
            "Epoch 67/100\n",
            "96/96 [==============================] - 1s 7ms/step - loss: 6.2964e-04 - val_loss: 2.5383e-04\n",
            "Epoch 68/100\n",
            "96/96 [==============================] - 1s 6ms/step - loss: 6.2133e-04 - val_loss: 1.0513e-04\n",
            "Epoch 69/100\n",
            "96/96 [==============================] - 1s 7ms/step - loss: 5.7800e-04 - val_loss: 1.7637e-04\n",
            "Epoch 70/100\n",
            "96/96 [==============================] - 1s 6ms/step - loss: 5.7347e-04 - val_loss: 1.7264e-04\n",
            "Epoch 71/100\n",
            "96/96 [==============================] - 1s 6ms/step - loss: 7.0535e-04 - val_loss: 1.1342e-04\n",
            "Epoch 72/100\n",
            "96/96 [==============================] - 1s 6ms/step - loss: 5.9435e-04 - val_loss: 3.3920e-04\n",
            "Epoch 73/100\n",
            "96/96 [==============================] - 1s 6ms/step - loss: 6.2352e-04 - val_loss: 2.0502e-04\n",
            "Epoch 74/100\n",
            "96/96 [==============================] - 1s 6ms/step - loss: 6.0192e-04 - val_loss: 1.5524e-04\n",
            "Epoch 75/100\n",
            "96/96 [==============================] - 1s 6ms/step - loss: 5.2284e-04 - val_loss: 2.2503e-04\n",
            "Epoch 76/100\n",
            "96/96 [==============================] - 1s 6ms/step - loss: 5.9595e-04 - val_loss: 1.3788e-04\n",
            "Epoch 77/100\n",
            "96/96 [==============================] - 1s 6ms/step - loss: 5.7730e-04 - val_loss: 1.8056e-04\n",
            "Epoch 78/100\n",
            "96/96 [==============================] - 1s 6ms/step - loss: 5.6677e-04 - val_loss: 1.4794e-04\n",
            "Epoch 79/100\n",
            "96/96 [==============================] - 1s 6ms/step - loss: 5.6772e-04 - val_loss: 1.8536e-04\n",
            "Epoch 80/100\n",
            "96/96 [==============================] - 1s 6ms/step - loss: 5.8736e-04 - val_loss: 1.9186e-04\n",
            "Epoch 81/100\n",
            "96/96 [==============================] - 1s 6ms/step - loss: 5.2727e-04 - val_loss: 1.0799e-04\n",
            "Epoch 82/100\n",
            "96/96 [==============================] - 1s 6ms/step - loss: 5.2629e-04 - val_loss: 1.3533e-04\n",
            "Epoch 83/100\n",
            "96/96 [==============================] - 1s 6ms/step - loss: 5.0807e-04 - val_loss: 1.0394e-04\n",
            "Epoch 84/100\n",
            "96/96 [==============================] - 1s 6ms/step - loss: 5.0879e-04 - val_loss: 2.1513e-04\n",
            "Epoch 85/100\n",
            "96/96 [==============================] - 1s 6ms/step - loss: 6.0502e-04 - val_loss: 2.2967e-04\n",
            "Epoch 86/100\n",
            "96/96 [==============================] - 1s 7ms/step - loss: 5.1680e-04 - val_loss: 1.8827e-04\n",
            "Epoch 87/100\n",
            "96/96 [==============================] - 1s 6ms/step - loss: 5.2206e-04 - val_loss: 1.9707e-04\n",
            "Epoch 88/100\n",
            "96/96 [==============================] - 1s 6ms/step - loss: 5.7076e-04 - val_loss: 1.4988e-04\n",
            "Epoch 89/100\n",
            "96/96 [==============================] - 1s 6ms/step - loss: 5.0186e-04 - val_loss: 1.0925e-04\n",
            "Epoch 90/100\n",
            "96/96 [==============================] - 1s 6ms/step - loss: 5.4259e-04 - val_loss: 1.4985e-04\n",
            "Epoch 91/100\n",
            "96/96 [==============================] - 1s 7ms/step - loss: 4.9203e-04 - val_loss: 1.0685e-04\n",
            "Epoch 92/100\n",
            "96/96 [==============================] - 1s 6ms/step - loss: 5.1311e-04 - val_loss: 2.2298e-04\n",
            "Epoch 93/100\n",
            "96/96 [==============================] - 1s 6ms/step - loss: 5.2051e-04 - val_loss: 1.5412e-04\n",
            "Epoch 94/100\n",
            "96/96 [==============================] - 1s 6ms/step - loss: 5.0646e-04 - val_loss: 1.0536e-04\n",
            "Epoch 95/100\n",
            "96/96 [==============================] - 1s 6ms/step - loss: 4.8339e-04 - val_loss: 1.2476e-04\n",
            "Epoch 96/100\n",
            "96/96 [==============================] - 1s 6ms/step - loss: 4.6805e-04 - val_loss: 1.3340e-04\n",
            "Epoch 97/100\n",
            "96/96 [==============================] - 1s 6ms/step - loss: 4.7861e-04 - val_loss: 1.0889e-04\n",
            "Epoch 98/100\n",
            "96/96 [==============================] - 1s 6ms/step - loss: 4.9241e-04 - val_loss: 1.0878e-04\n",
            "Epoch 99/100\n",
            "96/96 [==============================] - 1s 6ms/step - loss: 4.5806e-04 - val_loss: 3.3031e-04\n",
            "Epoch 100/100\n",
            "96/96 [==============================] - 1s 6ms/step - loss: 4.6419e-04 - val_loss: 1.0347e-04\n"
          ],
          "name": "stdout"
        },
        {
          "output_type": "execute_result",
          "data": {
            "text/plain": [
              "<tensorflow.python.keras.callbacks.History at 0x7ff87dfaca90>"
            ]
          },
          "metadata": {
            "tags": []
          },
          "execution_count": 174
        }
      ]
    },
    {
      "cell_type": "code",
      "metadata": {
        "id": "_qZQEyNA07gO"
      },
      "source": [
        "model.save_weights('model.h5')"
      ],
      "execution_count": null,
      "outputs": []
    },
    {
      "cell_type": "code",
      "metadata": {
        "colab": {
          "base_uri": "https://localhost:8080/"
        },
        "id": "Ikd7lSgx24EN",
        "outputId": "8dccf976-e0ad-404d-c624-0b7efdaee8c4"
      },
      "source": [
        "predictions = model.predict(X_test) \r\n",
        "print(predictions[0])\r\n",
        "# unscaling the predictions\r\n",
        "\r\n",
        "pred = np.array(predictions).reshape((len(predictions), 1))\r\n",
        "predictions = scaler_y.inverse_transform(pred) \r\n",
        "print(predictions[0])"
      ],
      "execution_count": null,
      "outputs": [
        {
          "output_type": "stream",
          "text": [
            "[-0.45518318]\n",
            "[-0.45518318]\n"
          ],
          "name": "stdout"
        }
      ]
    },
    {
      "cell_type": "code",
      "metadata": {
        "id": "5g-uNoeZ1QYD"
      },
      "source": [
        "X_test = scaler_x.inverse_transform(np.array(X_test).reshape((len(X_test), len(cols))))\r\n",
        "\r\n",
        "# unscaling the test y dataset, y_test\r\n",
        "y_train = scaler_y.inverse_transform(np.array(y_train).reshape((len(y_train), 1)))\r\n",
        "y_test = scaler_y.inverse_transform(y_test)\r\n",
        "y_test = np.array(y_test).reshape((len(y_test), 1))"
      ],
      "execution_count": null,
      "outputs": []
    },
    {
      "cell_type": "code",
      "metadata": {
        "colab": {
          "base_uri": "https://localhost:8080/"
        },
        "id": "DCrvNZlzFuZ4",
        "outputId": "ae019004-efdd-4fba-bea9-3aa5e7136eb7"
      },
      "source": [
        "X_test[1]"
      ],
      "execution_count": null,
      "outputs": [
        {
          "output_type": "execute_result",
          "data": {
            "text/plain": [
              "array([-0.46373544, -0.47440609, -0.4599584 , -0.46242561, -0.9677755 ,\n",
              "       -0.9999    , -0.9999    ])"
            ]
          },
          "metadata": {
            "tags": []
          },
          "execution_count": 195
        }
      ]
    },
    {
      "cell_type": "code",
      "metadata": {
        "colab": {
          "base_uri": "https://localhost:8080/",
          "height": 625
        },
        "id": "CtdgBem60w7D",
        "outputId": "bc10eef6-4620-46ef-e34d-b38fd7a55c67"
      },
      "source": [
        "plt.figure(figsize=(16,10))\r\n",
        "\r\n",
        "plt.plot(predictions, label=\"Predicted Close Price\")\r\n",
        "plt.plot([row[0] for row in y_test], label=\"Testing Close Price\")\r\n",
        "plt.legend(loc='upper center', bbox_to_anchor=(0.5, -0.05), fancybox=True, shadow=True, ncol=2)\r\n",
        "plt.show()"
      ],
      "execution_count": null,
      "outputs": [
        {
          "output_type": "display_data",
          "data": {
            "image/png": "[encoded data removed]",
            "text/plain": [
              "<Figure size 1152x720 with 1 Axes>"
            ]
          },
          "metadata": {
            "tags": [],
            "needs_background": "light"
          }
        }
      ]
    },
    {
      "cell_type": "code",
      "metadata": {
        "id": "rb_8_c7UDn3R"
      },
      "source": [
        ""
      ],
      "execution_count": null,
      "outputs": []
    },
    {
      "cell_type": "code",
      "metadata": {
        "id": "DHMbYyeuAOLx"
      },
      "source": [
        ""
      ],
      "execution_count": null,
      "outputs": []
    }
  ]
}